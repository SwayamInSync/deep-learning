{
  "nbformat": 4,
  "nbformat_minor": 0,
  "metadata": {
    "colab": {
      "name": "linear_perceptron.ipynb",
      "provenance": [],
      "authorship_tag": "ABX9TyOJTVyUM+SD2ZflQ73sB1lY",
      "include_colab_link": true
    },
    "kernelspec": {
      "name": "python3",
      "display_name": "Python 3"
    },
    "language_info": {
      "name": "python"
    }
  },
  "cells": [
    {
      "cell_type": "markdown",
      "metadata": {
        "id": "view-in-github",
        "colab_type": "text"
      },
      "source": [
        "<a href=\"https://colab.research.google.com/github/practice404/deep-learning/blob/master/linear_perceptron.ipynb\" target=\"_parent\"><img src=\"https://colab.research.google.com/assets/colab-badge.svg\" alt=\"Open In Colab\"/></a>"
      ]
    },
    {
      "cell_type": "code",
      "metadata": {
        "id": "a8tmg09E6k2Q"
      },
      "source": [
        "import pandas as pd\n",
        "import numpy as np\n",
        "import matplotlib.pyplot as plt\n",
        "import seaborn as sns\n",
        "\n",
        "np.random.seed(42)"
      ],
      "execution_count": 155,
      "outputs": []
    },
    {
      "cell_type": "code",
      "metadata": {
        "colab": {
          "base_uri": "https://localhost:8080/",
          "height": 204
        },
        "id": "ETcW8uCO7qb0",
        "outputId": "c0b5f0b9-204f-46d2-84cd-f9142feb4cc9"
      },
      "source": [
        "data = pd.read_csv('data.csv', names=['X','Y','Label'])\n",
        "data.head()"
      ],
      "execution_count": 156,
      "outputs": [
        {
          "output_type": "execute_result",
          "data": {
            "text/html": [
              "<div>\n",
              "<style scoped>\n",
              "    .dataframe tbody tr th:only-of-type {\n",
              "        vertical-align: middle;\n",
              "    }\n",
              "\n",
              "    .dataframe tbody tr th {\n",
              "        vertical-align: top;\n",
              "    }\n",
              "\n",
              "    .dataframe thead th {\n",
              "        text-align: right;\n",
              "    }\n",
              "</style>\n",
              "<table border=\"1\" class=\"dataframe\">\n",
              "  <thead>\n",
              "    <tr style=\"text-align: right;\">\n",
              "      <th></th>\n",
              "      <th>X</th>\n",
              "      <th>Y</th>\n",
              "      <th>Label</th>\n",
              "    </tr>\n",
              "  </thead>\n",
              "  <tbody>\n",
              "    <tr>\n",
              "      <th>0</th>\n",
              "      <td>0.78051</td>\n",
              "      <td>-0.063669</td>\n",
              "      <td>1</td>\n",
              "    </tr>\n",
              "    <tr>\n",
              "      <th>1</th>\n",
              "      <td>0.28774</td>\n",
              "      <td>0.291390</td>\n",
              "      <td>1</td>\n",
              "    </tr>\n",
              "    <tr>\n",
              "      <th>2</th>\n",
              "      <td>0.40714</td>\n",
              "      <td>0.178780</td>\n",
              "      <td>1</td>\n",
              "    </tr>\n",
              "    <tr>\n",
              "      <th>3</th>\n",
              "      <td>0.29230</td>\n",
              "      <td>0.421700</td>\n",
              "      <td>1</td>\n",
              "    </tr>\n",
              "    <tr>\n",
              "      <th>4</th>\n",
              "      <td>0.50922</td>\n",
              "      <td>0.352560</td>\n",
              "      <td>1</td>\n",
              "    </tr>\n",
              "  </tbody>\n",
              "</table>\n",
              "</div>"
            ],
            "text/plain": [
              "         X         Y  Label\n",
              "0  0.78051 -0.063669      1\n",
              "1  0.28774  0.291390      1\n",
              "2  0.40714  0.178780      1\n",
              "3  0.29230  0.421700      1\n",
              "4  0.50922  0.352560      1"
            ]
          },
          "metadata": {},
          "execution_count": 156
        }
      ]
    },
    {
      "cell_type": "code",
      "metadata": {
        "id": "T61RyRSbA5co"
      },
      "source": [
        "X = data[['X','Y']].values\n",
        "label = data['Label'].values"
      ],
      "execution_count": 157,
      "outputs": []
    },
    {
      "cell_type": "code",
      "metadata": {
        "id": "J9faT5rzBZ2-"
      },
      "source": [
        "def prediction(X, W, b):\n",
        "    t = (((np.matmul(X,W))+b)[0]) # solving linear equation\n",
        "    if t >= 0:\n",
        "        return 1\n",
        "    return 0"
      ],
      "execution_count": 158,
      "outputs": []
    },
    {
      "cell_type": "code",
      "metadata": {
        "id": "ies1_I1s_Zut"
      },
      "source": [
        "def perceptron_algo(X, y, W, b, learn_rate = 0.01):\n",
        "    for i in range(len(X)):\n",
        "        pred = prediction(X[i],W,b)\n",
        "        if y[i] == 1 and pred == 0:\n",
        "            for n in range(len(W)):\n",
        "                W[n] += X[i][n]*learn_rate\n",
        "            b += learn_rate\n",
        "        if y[i] == 0 and pred == 1:\n",
        "            for n in range(len(W)):\n",
        "                W[n] -= X[i][n]*learn_rate \n",
        "            b -= learn_rate\n",
        "    \n",
        "    return W, b"
      ],
      "execution_count": 159,
      "outputs": []
    },
    {
      "cell_type": "code",
      "metadata": {
        "id": "7_YgBmNl926L"
      },
      "source": [
        "def begin(X,label,learn_rate = 0.01, rounds=50):\n",
        "  x_min, x_max = X.T[0].min(), X.T[0].max()\n",
        "  y_min, y_max = X.T[1].min(), X.T[1].max()\n",
        "  W = np.random.rand(2,1)\n",
        "  b = np.random.rand(1)[0] + x_max\n",
        "\n",
        "  boundary_lines = []\n",
        "  for _ in range(rounds):\n",
        "    W,b = perceptron_algo(X, label, W, b, learn_rate)\n",
        "    boundary_lines.append((-W[0]/W[1], -b/W[1]))\n",
        "  return boundary_lines"
      ],
      "execution_count": 160,
      "outputs": []
    },
    {
      "cell_type": "code",
      "metadata": {
        "id": "fZkMELMM7up2"
      },
      "source": [
        "line_data = begin(X,label)"
      ],
      "execution_count": 161,
      "outputs": []
    },
    {
      "cell_type": "code",
      "metadata": {
        "colab": {
          "base_uri": "https://localhost:8080/",
          "height": 269
        },
        "id": "04N56x8VC-yg",
        "outputId": "6ef92706-f1d3-456c-fd43-1ed9395d05ab"
      },
      "source": [
        "x_0 = data[data['Label'] == 0][['X','Y']].values\n",
        "x_1 = data[data['Label'] == 1][['X','Y']].values\n",
        "\n",
        "plt.scatter(x = x_0.T[0], y=x_0.T[1],c=\"red\")\n",
        "plt.scatter(x = x_1.T[0], y=x_1.T[1],c=\"blue\")\n",
        "for i in range(len(line_data)):\n",
        "  if i == len(line_data) - 1:\n",
        "    color = 'black'\n",
        "  else:\n",
        "    color = 'green'\n",
        "  slope,intercept = line_data[i]\n",
        "  axes = plt.gca()\n",
        "  axes.set_ylim([y_min,y_max])\n",
        "  x_vals = np.random.rand(25)\n",
        "  y_vals = intercept[0] + slope[0] * x_vals\n",
        "  plt.plot(x_vals, y_vals,c=color)"
      ],
      "execution_count": 162,
      "outputs": [
        {
          "output_type": "display_data",
          "data": {
            "image/png": "[encoded data removed]",
            "text/plain": [
              "<Figure size 432x288 with 1 Axes>"
            ]
          },
          "metadata": {
            "needs_background": "light"
          }
        }
      ]
    },
    {
      "cell_type": "code",
      "metadata": {
        "id": "nzJZ4JOFG1HS"
      },
      "source": [
        ""
      ],
      "execution_count": 162,
      "outputs": []
    }
  ]
}