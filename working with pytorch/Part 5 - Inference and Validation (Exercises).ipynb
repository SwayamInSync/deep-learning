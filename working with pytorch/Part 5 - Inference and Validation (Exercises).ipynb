{
 "cells": [
  {
   "cell_type": "code",
   "execution_count": 1,
   "metadata": {},
   "outputs": [
    {
     "name": "stderr",
     "output_type": "stream",
     "text": [
      "/Users/swayam/Desktop/deep-learning-v2-pytorch/venv/lib/python3.8/site-packages/torchvision/datasets/mnist.py:498: UserWarning: The given NumPy array is not writeable, and PyTorch does not support non-writeable tensors. This means you can write to the underlying (supposedly non-writeable) NumPy array using the tensor. You may want to copy the array to protect its data or make it writeable before converting it to a tensor. This type of warning will be suppressed for the rest of this program. (Triggered internally at  ../torch/csrc/utils/tensor_numpy.cpp:180.)\n",
      "  return torch.from_numpy(parsed.astype(m[2], copy=False)).view(*s)\n"
     ]
    }
   ],
   "source": [
    "import torch\n",
    "from torchvision import datasets, transforms\n",
    "\n",
    "# Define a transform to normalize the data\n",
    "transform = transforms.Compose([transforms.ToTensor(),\n",
    "                                transforms.Normalize((0.5,), (0.5,))])\n",
    "# Download and load the training data\n",
    "trainset = datasets.FashionMNIST('~/.pytorch/F_MNIST_data/', download=True, train=True, transform=transform)\n",
    "trainloader = torch.utils.data.DataLoader(trainset, batch_size=64, shuffle=True)\n",
    "\n",
    "# Download and load the test data\n",
    "testset = datasets.FashionMNIST('~/.pytorch/F_MNIST_data/', download=True, train=False, transform=transform)\n",
    "testloader = torch.utils.data.DataLoader(testset, batch_size=64, shuffle=True)"
   ]
  },
  {
   "cell_type": "code",
   "execution_count": 2,
   "metadata": {},
   "outputs": [],
   "source": [
    "from torch import nn, optim\n",
    "import torch.nn.functional as F\n",
    "\n",
    "class Classifier(nn.Module):\n",
    "    def __init__(self):\n",
    "        super().__init__()\n",
    "        self.fc1 = nn.Linear(784, 256)\n",
    "        self.fc2 = nn.Linear(256, 128)\n",
    "        self.fc3 = nn.Linear(128, 64)\n",
    "        self.fc4 = nn.Linear(64, 10)\n",
    "        \n",
    "    def forward(self, x):\n",
    "        # make sure input tensor is flattened\n",
    "        x = x.view(x.shape[0], -1)\n",
    "        \n",
    "        x = F.relu(self.fc1(x))\n",
    "        x = F.relu(self.fc2(x))\n",
    "        x = F.relu(self.fc3(x))\n",
    "        x = F.log_softmax(self.fc4(x), dim=1)\n",
    "        \n",
    "        return x"
   ]
  },
  {
   "cell_type": "code",
   "execution_count": 3,
   "metadata": {},
   "outputs": [
    {
     "name": "stdout",
     "output_type": "stream",
     "text": [
      "torch.Size([64, 10])\n"
     ]
    }
   ],
   "source": [
    "model = Classifier()\n",
    "\n",
    "images, labels = next(iter(testloader))\n",
    "# Get the class probabilities\n",
    "ps = torch.exp(model(images))\n",
    "# Make sure the shape is appropriate, we should get 10 class probabilities for 64 examples\n",
    "print(ps.shape)"
   ]
  },
  {
   "cell_type": "code",
   "execution_count": 4,
   "metadata": {},
   "outputs": [
    {
     "data": {
      "text/plain": [
       "tensor([[0.1059, 0.1090, 0.0905, 0.0914, 0.0962, 0.0910, 0.0966, 0.1167, 0.0999,\n",
       "         0.1028],\n",
       "        [0.1021, 0.1031, 0.0924, 0.0918, 0.0993, 0.0891, 0.0965, 0.1202, 0.1016,\n",
       "         0.1038],\n",
       "        [0.1016, 0.1060, 0.0944, 0.0900, 0.0972, 0.0889, 0.1012, 0.1191, 0.1043,\n",
       "         0.0973],\n",
       "        [0.1030, 0.1062, 0.0937, 0.0910, 0.0960, 0.0913, 0.0983, 0.1170, 0.1029,\n",
       "         0.1006],\n",
       "        [0.1026, 0.1085, 0.0934, 0.0897, 0.0958, 0.0902, 0.1016, 0.1156, 0.1019,\n",
       "         0.1007],\n",
       "        [0.0997, 0.1060, 0.0933, 0.0891, 0.0968, 0.0886, 0.1031, 0.1184, 0.1037,\n",
       "         0.1011],\n",
       "        [0.1012, 0.1064, 0.0912, 0.0908, 0.0996, 0.0903, 0.0972, 0.1182, 0.1032,\n",
       "         0.1019],\n",
       "        [0.0998, 0.1029, 0.0945, 0.0930, 0.0989, 0.0900, 0.0960, 0.1180, 0.1059,\n",
       "         0.1011],\n",
       "        [0.1028, 0.1057, 0.0903, 0.0901, 0.0982, 0.0916, 0.0972, 0.1201, 0.1020,\n",
       "         0.1021],\n",
       "        [0.1023, 0.1042, 0.0918, 0.0905, 0.0976, 0.0923, 0.0987, 0.1179, 0.1035,\n",
       "         0.1011],\n",
       "        [0.1031, 0.1059, 0.0950, 0.0896, 0.0968, 0.0914, 0.0986, 0.1178, 0.1024,\n",
       "         0.0993],\n",
       "        [0.1022, 0.1073, 0.0931, 0.0892, 0.0971, 0.0932, 0.0975, 0.1169, 0.1036,\n",
       "         0.0999],\n",
       "        [0.1010, 0.1044, 0.0930, 0.0913, 0.0989, 0.0899, 0.0970, 0.1193, 0.1056,\n",
       "         0.0996],\n",
       "        [0.1020, 0.1068, 0.0915, 0.0920, 0.0972, 0.0897, 0.0995, 0.1159, 0.1027,\n",
       "         0.1028],\n",
       "        [0.1000, 0.1057, 0.0936, 0.0898, 0.0954, 0.0880, 0.1034, 0.1209, 0.1018,\n",
       "         0.1013],\n",
       "        [0.0999, 0.1078, 0.0960, 0.0897, 0.0952, 0.0928, 0.0991, 0.1173, 0.1055,\n",
       "         0.0968],\n",
       "        [0.1065, 0.1073, 0.0905, 0.0902, 0.0968, 0.0918, 0.0975, 0.1178, 0.1007,\n",
       "         0.1010],\n",
       "        [0.1043, 0.1079, 0.0905, 0.0911, 0.0977, 0.0925, 0.0965, 0.1163, 0.1004,\n",
       "         0.1028],\n",
       "        [0.1007, 0.1052, 0.0960, 0.0910, 0.0962, 0.0918, 0.0969, 0.1180, 0.1054,\n",
       "         0.0989],\n",
       "        [0.1022, 0.1057, 0.0929, 0.0920, 0.0978, 0.0905, 0.0963, 0.1184, 0.1034,\n",
       "         0.1008],\n",
       "        [0.0992, 0.1070, 0.0926, 0.0875, 0.0957, 0.0875, 0.1068, 0.1190, 0.1026,\n",
       "         0.1021],\n",
       "        [0.1037, 0.1074, 0.0901, 0.0922, 0.0978, 0.0906, 0.0977, 0.1177, 0.1032,\n",
       "         0.0996],\n",
       "        [0.1017, 0.1044, 0.0930, 0.0916, 0.0967, 0.0899, 0.0986, 0.1200, 0.1017,\n",
       "         0.1024],\n",
       "        [0.1049, 0.1074, 0.0926, 0.0927, 0.0954, 0.0907, 0.0977, 0.1164, 0.1006,\n",
       "         0.1015],\n",
       "        [0.1050, 0.1044, 0.0909, 0.0918, 0.0984, 0.0912, 0.0962, 0.1177, 0.1020,\n",
       "         0.1024],\n",
       "        [0.1039, 0.1058, 0.0920, 0.0909, 0.0983, 0.0928, 0.0969, 0.1156, 0.1032,\n",
       "         0.1005],\n",
       "        [0.1005, 0.1048, 0.0946, 0.0903, 0.0964, 0.0917, 0.0999, 0.1176, 0.1053,\n",
       "         0.0988],\n",
       "        [0.1057, 0.1093, 0.0913, 0.0905, 0.0953, 0.0917, 0.0966, 0.1170, 0.1008,\n",
       "         0.1019],\n",
       "        [0.1011, 0.1073, 0.0934, 0.0903, 0.0956, 0.0910, 0.0992, 0.1182, 0.1022,\n",
       "         0.1015],\n",
       "        [0.1055, 0.1039, 0.0909, 0.0910, 0.1003, 0.0917, 0.0944, 0.1178, 0.1019,\n",
       "         0.1025],\n",
       "        [0.1009, 0.1068, 0.0938, 0.0882, 0.0966, 0.0924, 0.0989, 0.1197, 0.1034,\n",
       "         0.0994],\n",
       "        [0.1046, 0.1056, 0.0907, 0.0908, 0.0977, 0.0924, 0.0968, 0.1176, 0.1022,\n",
       "         0.1016],\n",
       "        [0.1003, 0.1041, 0.0916, 0.0914, 0.1001, 0.0902, 0.0973, 0.1210, 0.1019,\n",
       "         0.1022],\n",
       "        [0.1038, 0.1052, 0.0922, 0.0901, 0.0981, 0.0926, 0.0977, 0.1174, 0.1018,\n",
       "         0.1011],\n",
       "        [0.1020, 0.1058, 0.0969, 0.0892, 0.0953, 0.0933, 0.0980, 0.1175, 0.1062,\n",
       "         0.0958],\n",
       "        [0.1009, 0.1053, 0.0935, 0.0913, 0.0991, 0.0892, 0.0970, 0.1181, 0.1057,\n",
       "         0.0999],\n",
       "        [0.1056, 0.1064, 0.0934, 0.0923, 0.0956, 0.0903, 0.0972, 0.1172, 0.1011,\n",
       "         0.1011],\n",
       "        [0.1028, 0.1061, 0.0917, 0.0904, 0.0993, 0.0922, 0.0966, 0.1182, 0.1022,\n",
       "         0.1006],\n",
       "        [0.1004, 0.1037, 0.0930, 0.0908, 0.0988, 0.0913, 0.0971, 0.1201, 0.1051,\n",
       "         0.0997],\n",
       "        [0.1002, 0.1058, 0.0939, 0.0889, 0.0943, 0.0913, 0.0998, 0.1227, 0.1010,\n",
       "         0.1021],\n",
       "        [0.1011, 0.1056, 0.0927, 0.0926, 0.0972, 0.0912, 0.1000, 0.1164, 0.1050,\n",
       "         0.0981],\n",
       "        [0.1004, 0.1064, 0.0964, 0.0908, 0.0962, 0.0911, 0.1002, 0.1153, 0.1047,\n",
       "         0.0985],\n",
       "        [0.1031, 0.1031, 0.0919, 0.0913, 0.0994, 0.0913, 0.0955, 0.1192, 0.1018,\n",
       "         0.1033],\n",
       "        [0.1042, 0.1063, 0.0914, 0.0912, 0.0973, 0.0913, 0.0962, 0.1174, 0.1036,\n",
       "         0.1011],\n",
       "        [0.1007, 0.1069, 0.0930, 0.0897, 0.0962, 0.0888, 0.1026, 0.1187, 0.1022,\n",
       "         0.1014],\n",
       "        [0.1001, 0.1035, 0.0921, 0.0913, 0.0993, 0.0907, 0.0976, 0.1204, 0.1033,\n",
       "         0.1016],\n",
       "        [0.1032, 0.1058, 0.0931, 0.0911, 0.0973, 0.0895, 0.1006, 0.1162, 0.0998,\n",
       "         0.1033],\n",
       "        [0.1006, 0.1036, 0.0932, 0.0915, 0.0992, 0.0910, 0.0984, 0.1178, 0.1048,\n",
       "         0.0999],\n",
       "        [0.1035, 0.1057, 0.0914, 0.0905, 0.0991, 0.0920, 0.0965, 0.1170, 0.1027,\n",
       "         0.1015],\n",
       "        [0.1054, 0.1063, 0.0917, 0.0900, 0.0978, 0.0913, 0.0956, 0.1170, 0.1031,\n",
       "         0.1018],\n",
       "        [0.1042, 0.1062, 0.0912, 0.0906, 0.0981, 0.0914, 0.0968, 0.1168, 0.1028,\n",
       "         0.1019],\n",
       "        [0.1029, 0.1068, 0.0935, 0.0891, 0.0953, 0.0918, 0.0991, 0.1193, 0.1008,\n",
       "         0.1014],\n",
       "        [0.1008, 0.1049, 0.0917, 0.0921, 0.0991, 0.0909, 0.0981, 0.1190, 0.1033,\n",
       "         0.1001],\n",
       "        [0.1021, 0.1071, 0.0919, 0.0911, 0.0977, 0.0916, 0.0982, 0.1164, 0.1030,\n",
       "         0.1008],\n",
       "        [0.1043, 0.1053, 0.0906, 0.0919, 0.0993, 0.0927, 0.0950, 0.1164, 0.1026,\n",
       "         0.1020],\n",
       "        [0.1037, 0.1042, 0.0913, 0.0908, 0.0991, 0.0925, 0.0956, 0.1171, 0.1038,\n",
       "         0.1018],\n",
       "        [0.1048, 0.1071, 0.0919, 0.0916, 0.0965, 0.0915, 0.0976, 0.1160, 0.1012,\n",
       "         0.1018],\n",
       "        [0.1019, 0.1065, 0.0943, 0.0907, 0.0944, 0.0926, 0.0983, 0.1183, 0.1036,\n",
       "         0.0994],\n",
       "        [0.1031, 0.1061, 0.0934, 0.0899, 0.0972, 0.0917, 0.0968, 0.1179, 0.1038,\n",
       "         0.0999],\n",
       "        [0.1044, 0.1064, 0.0910, 0.0914, 0.0983, 0.0914, 0.0964, 0.1161, 0.1024,\n",
       "         0.1021],\n",
       "        [0.1032, 0.1088, 0.0918, 0.0908, 0.0953, 0.0933, 0.0975, 0.1165, 0.1027,\n",
       "         0.1000],\n",
       "        [0.1004, 0.1050, 0.0927, 0.0914, 0.0983, 0.0903, 0.0981, 0.1196, 0.1037,\n",
       "         0.1006],\n",
       "        [0.1054, 0.1009, 0.0930, 0.0896, 0.0996, 0.0941, 0.0949, 0.1180, 0.1023,\n",
       "         0.1023],\n",
       "        [0.1036, 0.1065, 0.0898, 0.0914, 0.0985, 0.0900, 0.0979, 0.1183, 0.1014,\n",
       "         0.1026]], grad_fn=<ExpBackward>)"
      ]
     },
     "execution_count": 4,
     "metadata": {},
     "output_type": "execute_result"
    }
   ],
   "source": [
    "ps"
   ]
  },
  {
   "cell_type": "code",
   "execution_count": 5,
   "metadata": {},
   "outputs": [
    {
     "name": "stdout",
     "output_type": "stream",
     "text": [
      "tensor([[7],\n",
      "        [7],\n",
      "        [7],\n",
      "        [7],\n",
      "        [7],\n",
      "        [7],\n",
      "        [7],\n",
      "        [7],\n",
      "        [7],\n",
      "        [7]])\n"
     ]
    }
   ],
   "source": [
    "top_p, top_class = ps.topk(1, dim=1)\n",
    "# Look at the most likely classes for the first 10 examples\n",
    "print(top_class[:10,:])"
   ]
  },
  {
   "cell_type": "code",
   "execution_count": 6,
   "metadata": {},
   "outputs": [],
   "source": [
    "equals = top_class == labels.view(*top_class.shape)"
   ]
  },
  {
   "cell_type": "code",
   "execution_count": 7,
   "metadata": {},
   "outputs": [
    {
     "name": "stdout",
     "output_type": "stream",
     "text": [
      "Accuracy: 12.5%\n"
     ]
    }
   ],
   "source": [
    "accuracy = torch.mean(equals.type(torch.FloatTensor))\n",
    "print(f'Accuracy: {accuracy.item()*100}%')"
   ]
  },
  {
   "cell_type": "code",
   "execution_count": 8,
   "metadata": {},
   "outputs": [
    {
     "name": "stdout",
     "output_type": "stream",
     "text": [
      "Echo: 1 || correct: 8268 || accuracy: 0.8268\n",
      "Echo: 2 || correct: 8586 || accuracy: 0.8586\n",
      "Echo: 3 || correct: 8608 || accuracy: 0.8608\n",
      "Echo: 4 || correct: 8546 || accuracy: 0.8546\n",
      "Echo: 5 || correct: 8639 || accuracy: 0.8639\n",
      "Echo: 6 || correct: 8665 || accuracy: 0.8665\n",
      "Echo: 7 || correct: 8731 || accuracy: 0.8731\n",
      "Echo: 8 || correct: 8711 || accuracy: 0.8711\n",
      "Echo: 9 || correct: 8726 || accuracy: 0.8726\n",
      "Echo: 10 || correct: 8784 || accuracy: 0.8784\n",
      "Echo: 11 || correct: 8738 || accuracy: 0.8738\n",
      "Echo: 12 || correct: 8741 || accuracy: 0.8741\n",
      "Echo: 13 || correct: 8803 || accuracy: 0.8803\n",
      "Echo: 14 || correct: 8824 || accuracy: 0.8824\n",
      "Echo: 15 || correct: 8810 || accuracy: 0.881\n",
      "Echo: 16 || correct: 8661 || accuracy: 0.8661\n",
      "Echo: 17 || correct: 8823 || accuracy: 0.8823\n",
      "Echo: 18 || correct: 8820 || accuracy: 0.882\n",
      "Echo: 19 || correct: 8849 || accuracy: 0.8849\n",
      "Echo: 20 || correct: 8826 || accuracy: 0.8826\n",
      "Echo: 21 || correct: 8808 || accuracy: 0.8808\n",
      "Echo: 22 || correct: 8793 || accuracy: 0.8793\n",
      "Echo: 23 || correct: 8763 || accuracy: 0.8763\n",
      "Echo: 24 || correct: 8858 || accuracy: 0.8858\n",
      "Echo: 25 || correct: 8824 || accuracy: 0.8824\n",
      "Echo: 26 || correct: 8806 || accuracy: 0.8806\n",
      "Echo: 27 || correct: 8782 || accuracy: 0.8782\n",
      "Echo: 28 || correct: 8855 || accuracy: 0.8855\n",
      "Echo: 29 || correct: 8865 || accuracy: 0.8865\n",
      "Echo: 30 || correct: 8812 || accuracy: 0.8812\n"
     ]
    }
   ],
   "source": [
    "model = Classifier()\n",
    "criterion = nn.NLLLoss()\n",
    "optimizer = optim.Adam(model.parameters(), lr=0.003)\n",
    "\n",
    "epochs = 30\n",
    "steps = 0\n",
    "\n",
    "train_losses, test_losses = [], []\n",
    "for e in range(epochs):\n",
    "    running_loss = 0\n",
    "    for images, labels in trainloader:\n",
    "        \n",
    "        optimizer.zero_grad()\n",
    "        \n",
    "        log_ps = model(images)\n",
    "        loss = criterion(log_ps, labels)\n",
    "        loss.backward()\n",
    "        optimizer.step()\n",
    "        \n",
    "        running_loss += loss.item()\n",
    "        \n",
    "    else:\n",
    "        ## TODO: Implement the validation pass and print out the validation accuracy\n",
    "        total_correct = 0\n",
    "        total_loss = 0\n",
    "        with torch.no_grad():\n",
    "            for images, labels in testloader:\n",
    "                log_ps = model.forward(images)\n",
    "                loss_test = criterion(log_ps, labels)\n",
    "                total_loss += loss_test.item()\n",
    "\n",
    "                ps = torch.exp(log_ps)\n",
    "                top_i, top_class = ps.topk(1, dim=1)\n",
    "                equal = top_class == labels.view(top_class.shape)\n",
    "                correct = equal.sum().item()\n",
    "                total_correct += correct\n",
    "\n",
    "            test_loss = total_loss / len(testloader.dataset)\n",
    "            train_loss = running_loss / len(trainloader.dataset)\n",
    "\n",
    "            train_losses.append(train_loss)\n",
    "            test_losses.append(test_loss)\n",
    "\n",
    "            print(f\"Echo: {e+1} || correct: {total_correct} || accuracy: {total_correct/len(testloader.dataset)}\")"
   ]
  },
  {
   "cell_type": "code",
   "execution_count": 9,
   "metadata": {},
   "outputs": [
    {
     "data": {
      "text/plain": [
       "[<matplotlib.lines.Line2D at 0x7f8e73a42880>]"
      ]
     },
     "execution_count": 9,
     "metadata": {},
     "output_type": "execute_result"
    },
    {
     "data": {
      "image/png": "[encoded data removed]",
      "text/plain": [
       "<Figure size 432x288 with 1 Axes>"
      ]
     },
     "metadata": {
      "needs_background": "light"
     },
     "output_type": "display_data"
    }
   ],
   "source": [
    "import matplotlib.pyplot as plt\n",
    "plt.plot(train_losses, label=\"Train Loss\")\n",
    "plt.plot(test_losses, label=\"Test Loss\")"
   ]
  },
  {
   "cell_type": "code",
   "execution_count": 10,
   "metadata": {},
   "outputs": [],
   "source": [
    "## TODO: Define your model with dropout added\n",
    "class DropoutNetwork (nn.Module):\n",
    "    def __init__(self):\n",
    "        super().__init__()\n",
    "        self.fc1 = nn.Linear(784,256)\n",
    "        self.fc2 = nn.Linear(256,128)\n",
    "        self.fc3 = nn.Linear(128,64)\n",
    "        self.fc4 = nn.Linear(64,10)\n",
    "\n",
    "        self.dropout = nn.Dropout(0.2)\n",
    "    \n",
    "    def forward(self, x):\n",
    "        x = x.view(x.shape[0],-1)\n",
    "\n",
    "        x = self.dropout(F.relu(self.fc1(x)))\n",
    "        x = self.dropout(F.relu(self.fc2(x)))\n",
    "        x = self.dropout(F.relu(self.fc3(x)))\n",
    "        out = F.log_softmax(self.fc4(x), dim=1)\n",
    "\n",
    "        return out"
   ]
  },
  {
   "cell_type": "code",
   "execution_count": 11,
   "metadata": {},
   "outputs": [
    {
     "name": "stdout",
     "output_type": "stream",
     "text": [
      "Echo: 1 || correct: 8247 || accuracy: 0.8247\n",
      "Echo: 2 || correct: 8379 || accuracy: 0.8379\n",
      "Echo: 3 || correct: 8500 || accuracy: 0.85\n",
      "Echo: 4 || correct: 8389 || accuracy: 0.8389\n",
      "Echo: 5 || correct: 8447 || accuracy: 0.8447\n",
      "Echo: 6 || correct: 8588 || accuracy: 0.8588\n",
      "Echo: 7 || correct: 8623 || accuracy: 0.8623\n",
      "Echo: 8 || correct: 8512 || accuracy: 0.8512\n",
      "Echo: 9 || correct: 8662 || accuracy: 0.8662\n",
      "Echo: 10 || correct: 8663 || accuracy: 0.8663\n",
      "Echo: 11 || correct: 8632 || accuracy: 0.8632\n",
      "Echo: 12 || correct: 8611 || accuracy: 0.8611\n",
      "Echo: 13 || correct: 8649 || accuracy: 0.8649\n",
      "Echo: 14 || correct: 8613 || accuracy: 0.8613\n",
      "Echo: 15 || correct: 8686 || accuracy: 0.8686\n",
      "Echo: 16 || correct: 8726 || accuracy: 0.8726\n",
      "Echo: 17 || correct: 8574 || accuracy: 0.8574\n",
      "Echo: 18 || correct: 8683 || accuracy: 0.8683\n",
      "Echo: 19 || correct: 8665 || accuracy: 0.8665\n",
      "Echo: 20 || correct: 8704 || accuracy: 0.8704\n",
      "Echo: 21 || correct: 8769 || accuracy: 0.8769\n",
      "Echo: 22 || correct: 8752 || accuracy: 0.8752\n",
      "Echo: 23 || correct: 8680 || accuracy: 0.868\n",
      "Echo: 24 || correct: 8713 || accuracy: 0.8713\n",
      "Echo: 25 || correct: 8703 || accuracy: 0.8703\n",
      "Echo: 26 || correct: 8686 || accuracy: 0.8686\n",
      "Echo: 27 || correct: 8763 || accuracy: 0.8763\n",
      "Echo: 28 || correct: 8709 || accuracy: 0.8709\n",
      "Echo: 29 || correct: 8723 || accuracy: 0.8723\n",
      "Echo: 30 || correct: 8703 || accuracy: 0.8703\n"
     ]
    }
   ],
   "source": [
    "## TODO: Train your model with dropout, and monitor the training progress with the validation loss and accuracy\n",
    "model = DropoutNetwork()\n",
    "criterion = nn.NLLLoss()\n",
    "optimizer = optim.Adam(model.parameters(), lr=0.003)\n",
    "\n",
    "epochs = 30\n",
    "\n",
    "test_losses, train_losses = [], []\n",
    "for e in range(epochs):\n",
    "    model.train() # activating dropout in train mode\n",
    "\n",
    "    total_train_loss = 0\n",
    "    for images, labels in trainloader:\n",
    "\n",
    "        optimizer.zero_grad()\n",
    "\n",
    "        log_ps = model.forward(images)\n",
    "        loss = criterion(log_ps, labels)\n",
    "        total_train_loss += loss.item()\n",
    "\n",
    "        loss.backward()\n",
    "        optimizer.step()\n",
    "\n",
    "    else:\n",
    "        model.eval() # turning off the dropout for validation\n",
    "        total_test_loss = 0\n",
    "        total_correct = 0\n",
    "        with torch.no_grad():\n",
    "            for images, labels in testloader:\n",
    "                log_ps = model.forward(images)\n",
    "                loss = criterion(log_ps, labels)\n",
    "                total_test_loss += loss.item()\n",
    "\n",
    "                ps = torch.exp(log_ps)\n",
    "                top_i, top_class = ps.topk(1,dim=1)\n",
    "                equal = top_class == labels.view(top_class.shape)\n",
    "                total_correct += equal.sum().item()\n",
    "\n",
    "            train_loss = total_train_loss / len(trainloader.dataset)\n",
    "            test_loss = total_test_loss / len(testloader.dataset)\n",
    "\n",
    "            train_losses.append(train_loss)\n",
    "            test_losses.append(test_loss)\n",
    "            \n",
    "            print(f\"Echo: {e+1} || correct: {total_correct} || accuracy: {total_correct/len(testloader.dataset)}\")\n",
    "\n",
    "\n"
   ]
  },
  {
   "cell_type": "code",
   "execution_count": 12,
   "metadata": {},
   "outputs": [
    {
     "data": {
      "text/plain": [
       "[<matplotlib.lines.Line2D at 0x7f8e20538f70>]"
      ]
     },
     "execution_count": 12,
     "metadata": {},
     "output_type": "execute_result"
    },
    {
     "data": {
      "image/png": "[encoded data removed]",
      "text/plain": [
       "<Figure size 432x288 with 1 Axes>"
      ]
     },
     "metadata": {
      "needs_background": "light"
     },
     "output_type": "display_data"
    }
   ],
   "source": [
    "import matplotlib.pyplot as plt\n",
    "plt.plot(train_losses, label=\"Train Loss\")\n",
    "plt.plot(test_losses, label=\"Test Loss\")"
   ]
  },
  {
   "cell_type": "code",
   "execution_count": null,
   "metadata": {},
   "outputs": [],
   "source": []
  }
 ],
 "metadata": {
  "interpreter": {
   "hash": "6d0ce585ba42aaeb440d8bc31b1cfe4df4b28be41ad5aca95db481df065fbb3c"
  },
  "kernelspec": {
   "display_name": "venv",
   "language": "python",
   "name": "venv"
  },
  "language_info": {
   "codemirror_mode": {
    "name": "ipython",
    "version": 3
   },
   "file_extension": ".py",
   "mimetype": "text/x-python",
   "name": "python",
   "nbconvert_exporter": "python",
   "pygments_lexer": "ipython3",
   "version": "3.8.10"
  }
 },
 "nbformat": 4,
 "nbformat_minor": 2
}
