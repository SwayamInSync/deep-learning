{
  "nbformat": 4,
  "nbformat_minor": 0,
  "metadata": {
    "kernelspec": {
      "name": "python3",
      "display_name": "Python 3.8.10 64-bit ('venv': venv)"
    },
    "language_info": {
      "codemirror_mode": {
        "name": "ipython",
        "version": 3
      },
      "file_extension": ".py",
      "mimetype": "text/x-python",
      "name": "python",
      "nbconvert_exporter": "python",
      "pygments_lexer": "ipython3",
      "version": "3.8.10"
    },
    "interpreter": {
      "hash": "6d0ce585ba42aaeb440d8bc31b1cfe4df4b28be41ad5aca95db481df065fbb3c"
    },
    "colab": {
      "name": "Character_Level_RNN.ipynb",
      "provenance": [],
      "collapsed_sections": []
    },
    "accelerator": "GPU"
  },
  "cells": [
    {
      "cell_type": "markdown",
      "metadata": {
        "id": "YoXgMLft0ub9"
      },
      "source": [
        "# Character-Level LSTM in PyTorch\n",
        "\n",
        "In this notebook, I'll construct a character-level LSTM with PyTorch. The network will train character by character on some text, then generate new text character by character. As an example, I will train on Anna Karenina. **This model will be able to generate new text based on the text from the book!**\n",
        "\n",
        "This network is based off of Andrej Karpathy's [post on RNNs](http://karpathy.github.io/2015/05/21/rnn-effectiveness/) and [implementation in Torch](https://github.com/karpathy/char-rnn). Below is the general architecture of the character-wise RNN.\n",
        "\n",
        "<img src=\"assets/charseq.jpeg\" width=\"500\">"
      ]
    },
    {
      "cell_type": "markdown",
      "metadata": {
        "id": "DX7LrQWH0ub_"
      },
      "source": [
        "First let's load in our required resources for data loading and model creation."
      ]
    },
    {
      "cell_type": "code",
      "metadata": {
        "collapsed": true,
        "id": "zp4U3qGc0ub_"
      },
      "source": [
        "import numpy as np\n",
        "import torch\n",
        "from torch import nn\n",
        "import torch.nn.functional as F"
      ],
      "execution_count": 43,
      "outputs": []
    },
    {
      "cell_type": "markdown",
      "metadata": {
        "id": "kv-nptif0ub_"
      },
      "source": [
        "## Load in Data\n",
        "\n",
        "Then, we'll load the Anna Karenina text file and convert it into integers for our network to use. "
      ]
    },
    {
      "cell_type": "code",
      "metadata": {
        "collapsed": true,
        "id": "-ZvEkpyM0ucA"
      },
      "source": [
        "# open text file and read in data as `text`\n",
        "with open('anna.txt', 'r') as f:\n",
        "    text = f.read()"
      ],
      "execution_count": 44,
      "outputs": []
    },
    {
      "cell_type": "markdown",
      "metadata": {
        "id": "0HNs6iI00ucA"
      },
      "source": [
        "Let's check out the first 100 characters, make sure everything is peachy. According to the [American Book Review](http://americanbookreview.org/100bestlines.asp), this is the 6th best first line of a book ever."
      ]
    },
    {
      "cell_type": "code",
      "metadata": {
        "collapsed": true,
        "colab": {
          "base_uri": "https://localhost:8080/",
          "height": 37
        },
        "id": "U_ETKTcd0ucA",
        "outputId": "e99b115a-c2d7-4331-8f3c-74f1f68be166"
      },
      "source": [
        "text[:100]"
      ],
      "execution_count": 45,
      "outputs": [
        {
          "output_type": "execute_result",
          "data": {
            "application/vnd.google.colaboratory.intrinsic+json": {
              "type": "string"
            },
            "text/plain": [
              "'Chapter 1\\n\\n\\nHappy families are all alike; every unhappy family is unhappy in its own\\nway.\\n\\nEverythin'"
            ]
          },
          "metadata": {},
          "execution_count": 45
        }
      ]
    },
    {
      "cell_type": "markdown",
      "metadata": {
        "id": "DZr9J1Es0ucB"
      },
      "source": [
        "### Tokenization\n",
        "\n",
        "In the cells, below, I'm creating a couple of **dictionaries** to convert the characters to and from integers. Encoding the characters as integers makes it easier to use as input in the network."
      ]
    },
    {
      "cell_type": "code",
      "metadata": {
        "collapsed": true,
        "id": "5bIMASS50ucB"
      },
      "source": [
        "# encode the text and map each character to an integer and vice versa\n",
        "\n",
        "# we create two dictionaries:\n",
        "# 1. int2char, which maps integers to characters\n",
        "# 2. char2int, which maps characters to unique integers\n",
        "chars = tuple(set(text))\n",
        "int2char = dict(enumerate(chars))\n",
        "char2int = {ch: ii for ii, ch in int2char.items()}\n",
        "\n",
        "# encode the text\n",
        "encoded = np.array([char2int[ch] for ch in text])"
      ],
      "execution_count": 46,
      "outputs": []
    },
    {
      "cell_type": "markdown",
      "metadata": {
        "id": "oU3Bqk830ucB"
      },
      "source": [
        "And we can see those same characters from above, encoded as integers."
      ]
    },
    {
      "cell_type": "code",
      "metadata": {
        "collapsed": true,
        "colab": {
          "base_uri": "https://localhost:8080/"
        },
        "id": "jEpx6j9P0ucB",
        "outputId": "ffd6b61c-085e-4c4b-ede9-1d0f71d10e28"
      },
      "source": [
        "encoded[:100]"
      ],
      "execution_count": 47,
      "outputs": [
        {
          "output_type": "execute_result",
          "data": {
            "text/plain": [
              "array([22, 57, 40, 65, 18, 75, 27, 33, 51, 70, 70, 70, 35, 40, 65, 65,  1,\n",
              "       33, 79, 40,  7, 46,  0, 46, 75, 56, 33, 40, 27, 75, 33, 40,  0,  0,\n",
              "       33, 40,  0, 46, 17, 75, 14, 33, 75, 53, 75, 27,  1, 33, 23, 43, 57,\n",
              "       40, 65, 65,  1, 33, 79, 40,  7, 46,  0,  1, 33, 46, 56, 33, 23, 43,\n",
              "       57, 40, 65, 65,  1, 33, 46, 43, 33, 46, 18, 56, 33, 13, 21, 43, 70,\n",
              "       21, 40,  1, 71, 70, 70, 31, 53, 75, 27,  1, 18, 57, 46, 43])"
            ]
          },
          "metadata": {},
          "execution_count": 47
        }
      ]
    },
    {
      "cell_type": "markdown",
      "metadata": {
        "id": "_kAbw0ip0ucB"
      },
      "source": [
        "## Pre-processing the data\n",
        "\n",
        "As you can see in our char-RNN image above, our LSTM expects an input that is **one-hot encoded** meaning that each character is converted into an integer (via our created dictionary) and *then* converted into a column vector where only it's corresponding integer index will have the value of 1 and the rest of the vector will be filled with 0's. Since we're one-hot encoding the data, let's make a function to do that!\n"
      ]
    },
    {
      "cell_type": "code",
      "metadata": {
        "collapsed": true,
        "id": "5NjSpNjo0ucB"
      },
      "source": [
        "def one_hot_encode(arr, n_labels):\n",
        "    \n",
        "    # Initialize the encoded array\n",
        "    one_hot = np.zeros((arr.size, n_labels), dtype=np.float32)\n",
        "\n",
        "    # Fill the appropriate elements with ones\n",
        "    one_hot[np.arange(one_hot.shape[0]), arr.flatten()] = 1.\n",
        "    \n",
        "    # Finally reshape it to get back to the original array\n",
        "    one_hot = one_hot.reshape((*arr.shape, n_labels))\n",
        "    \n",
        "    return one_hot"
      ],
      "execution_count": 48,
      "outputs": []
    },
    {
      "cell_type": "code",
      "metadata": {
        "collapsed": true,
        "colab": {
          "base_uri": "https://localhost:8080/"
        },
        "id": "XRaWY6s00ucC",
        "outputId": "151c7e00-62c9-4802-99a7-a24cf5fbf99c"
      },
      "source": [
        "# check that the function works as expected\n",
        "test_seq = np.array([[3, 5, 1]])\n",
        "one_hot = one_hot_encode(test_seq, 8)\n",
        "\n",
        "print(one_hot)"
      ],
      "execution_count": 49,
      "outputs": [
        {
          "output_type": "stream",
          "name": "stdout",
          "text": [
            "[[[0. 0. 0. 1. 0. 0. 0. 0.]\n",
            "  [0. 0. 0. 0. 0. 1. 0. 0.]\n",
            "  [0. 1. 0. 0. 0. 0. 0. 0.]]]\n"
          ]
        }
      ]
    },
    {
      "cell_type": "markdown",
      "metadata": {
        "id": "HYnHPb2n0ucC"
      },
      "source": [
        "## Making training mini-batches\n",
        "\n",
        "\n",
        "To train on this data, we also want to create mini-batches for training. Remember that we want our batches to be multiple sequences of some desired number of sequence steps. Considering a simple example, our batches would look like this:\n",
        "\n",
        "<img src=\"assets/sequence_batching@1x.png\" width=500px>\n",
        "\n",
        "\n",
        "<br>\n",
        "\n",
        "In this example, we'll take the encoded characters (passed in as the `arr` parameter) and split them into multiple sequences, given by `batch_size`. Each of our sequences will be `seq_length` long.\n",
        "\n",
        "### Creating Batches\n",
        "\n",
        "**1. The first thing we need to do is discard some of the text so we only have completely full mini-batches. **\n",
        "\n",
        "Each batch contains $N \\times M$ characters, where $N$ is the batch size (the number of sequences in a batch) and $M$ is the seq_length or number of time steps in a sequence. Then, to get the total number of batches, $K$, that we can make from the array `arr`, you divide the length of `arr` by the number of characters per batch. Once you know the number of batches, you can get the total number of characters to keep from `arr`, $N * M * K$.\n",
        "\n",
        "**2. After that, we need to split `arr` into $N$ batches. ** \n",
        "\n",
        "You can do this using `arr.reshape(size)` where `size` is a tuple containing the dimensions sizes of the reshaped array. We know we want $N$ sequences in a batch, so let's make that the size of the first dimension. For the second dimension, you can use `-1` as a placeholder in the size, it'll fill up the array with the appropriate data for you. After this, you should have an array that is $N \\times (M * K)$.\n",
        "\n",
        "**3. Now that we have this array, we can iterate through it to get our mini-batches. **\n",
        "\n",
        "The idea is each batch is a $N \\times M$ window on the $N \\times (M * K)$ array. For each subsequent batch, the window moves over by `seq_length`. We also want to create both the input and target arrays. Remember that the targets are just the inputs shifted over by one character. The way I like to do this window is use `range` to take steps of size `n_steps` from $0$ to `arr.shape[1]`, the total number of tokens in each sequence. That way, the integers you get from `range` always point to the start of a batch, and each window is `seq_length` wide.\n",
        "\n",
        "> **TODO:** Write the code for creating batches in the function below. The exercises in this notebook _will not be easy_. I've provided a notebook with solutions alongside this notebook. If you get stuck, checkout the solutions. The most important thing is that you don't copy and paste the code into here, **type out the solution code yourself.**"
      ]
    },
    {
      "cell_type": "code",
      "metadata": {
        "collapsed": true,
        "id": "Q3qQBmvg0ucC"
      },
      "source": [
        "def get_batches(arr, batch_size, seq_length):\n",
        "    '''Create a generator that returns batches of size\n",
        "       batch_size x seq_length from arr.\n",
        "       \n",
        "       Arguments\n",
        "       ---------\n",
        "       arr: Array you want to make batches from\n",
        "       batch_size: Batch size, the number of sequences per batch\n",
        "       seq_length: Number of encoded chars in a sequence\n",
        "    '''\n",
        "    \n",
        "    mini_batch_size = batch_size * seq_length\n",
        "    # total number of batches we can make\n",
        "    n_batches = len(arr)//mini_batch_size\n",
        "    \n",
        "    # Keep only enough characters to make full batches\n",
        "    arr = arr[:n_batches * mini_batch_size]\n",
        "    # Reshape into batch_size rows\n",
        "    arr = arr.reshape((batch_size, -1))\n",
        "    \n",
        "    # iterate through the array, one sequence at a time\n",
        "    for n in range(0, arr.shape[1], seq_length):\n",
        "        # The features\n",
        "        x = arr[:, n:n+seq_length]\n",
        "        # The targets, shifted by one\n",
        "        y = np.zeros_like(x)\n",
        "        try:\n",
        "            y[:, :-1], y[:, -1] = x[:, 1:], arr[:, n+seq_length]\n",
        "        except IndexError:\n",
        "            y[:, :-1], y[:, -1] = x[:, 1:], arr[:, 0]\n",
        "        yield x, y"
      ],
      "execution_count": 50,
      "outputs": []
    },
    {
      "cell_type": "markdown",
      "metadata": {
        "id": "XuIgEkwU0ucC"
      },
      "source": [
        "### Test Your Implementation\n",
        "\n",
        "Now I'll make some data sets and we can check out what's going on as we batch data. Here, as an example, I'm going to use a batch size of 8 and 50 sequence steps."
      ]
    },
    {
      "cell_type": "code",
      "metadata": {
        "collapsed": true,
        "id": "L3rmRhoz0ucC"
      },
      "source": [
        "batches = get_batches(encoded, 8, 50)\n",
        "x, y = next(batches)"
      ],
      "execution_count": 51,
      "outputs": []
    },
    {
      "cell_type": "code",
      "metadata": {
        "collapsed": true,
        "colab": {
          "base_uri": "https://localhost:8080/"
        },
        "id": "w3OhCjID0ucD",
        "outputId": "db9ebaf3-17a5-4094-e859-e0542ebbf22d"
      },
      "source": [
        "# printing out the first 10 items in a sequence\n",
        "print('x\\n', x[:10, :10])\n",
        "print('\\ny\\n', y[:10, :10])"
      ],
      "execution_count": 52,
      "outputs": [
        {
          "output_type": "stream",
          "name": "stdout",
          "text": [
            "x\n",
            " [[22 57 40 65 18 75 27 33 51 70]\n",
            " [56 13 43 33 18 57 40 18 33 40]\n",
            " [75 43 66 33 13 27 33 40 33 79]\n",
            " [56 33 18 57 75 33 64 57 46 75]\n",
            " [33 56 40 21 33 57 75 27 33 18]\n",
            " [64 23 56 56 46 13 43 33 40 43]\n",
            " [33 28 43 43 40 33 57 40 66 33]\n",
            " [ 6 11  0 13 43 56 17  1 71 33]]\n",
            "\n",
            "y\n",
            " [[57 40 65 18 75 27 33 51 70 70]\n",
            " [13 43 33 18 57 40 18 33 40 18]\n",
            " [43 66 33 13 27 33 40 33 79 13]\n",
            " [33 18 57 75 33 64 57 46 75 79]\n",
            " [56 40 21 33 57 75 27 33 18 75]\n",
            " [23 56 56 46 13 43 33 40 43 66]\n",
            " [28 43 43 40 33 57 40 66 33 56]\n",
            " [11  0 13 43 56 17  1 71 33 32]]\n"
          ]
        }
      ]
    },
    {
      "cell_type": "markdown",
      "metadata": {
        "id": "AKo3sNRi0ucD"
      },
      "source": [
        "If you implemented `get_batches` correctly, the above output should look something like \n",
        "```\n",
        "x\n",
        " [[25  8 60 11 45 27 28 73  1  2]\n",
        " [17  7 20 73 45  8 60 45 73 60]\n",
        " [27 20 80 73  7 28 73 60 73 65]\n",
        " [17 73 45  8 27 73 66  8 46 27]\n",
        " [73 17 60 12 73  8 27 28 73 45]\n",
        " [66 64 17 17 46  7 20 73 60 20]\n",
        " [73 76 20 20 60 73  8 60 80 73]\n",
        " [47 35 43  7 20 17 24 50 37 73]]\n",
        "\n",
        "y\n",
        " [[ 8 60 11 45 27 28 73  1  2  2]\n",
        " [ 7 20 73 45  8 60 45 73 60 45]\n",
        " [20 80 73  7 28 73 60 73 65  7]\n",
        " [73 45  8 27 73 66  8 46 27 65]\n",
        " [17 60 12 73  8 27 28 73 45 27]\n",
        " [64 17 17 46  7 20 73 60 20 80]\n",
        " [76 20 20 60 73  8 60 80 73 17]\n",
        " [35 43  7 20 17 24 50 37 73 36]]\n",
        " ```\n",
        " although the exact numbers may be different. Check to make sure the data is shifted over one step for `y`."
      ]
    },
    {
      "cell_type": "markdown",
      "metadata": {
        "id": "31ryip0-0ucD"
      },
      "source": [
        "---\n",
        "## Defining the network with PyTorch\n",
        "\n",
        "Below is where you'll define the network.\n",
        "\n",
        "<img src=\"assets/charRNN.png\" width=500px>\n",
        "\n",
        "Next, you'll use PyTorch to define the architecture of the network. We start by defining the layers and operations we want. Then, define a method for the forward pass. You've also been given a method for predicting characters."
      ]
    },
    {
      "cell_type": "markdown",
      "metadata": {
        "id": "wnb3n6IN0ucD"
      },
      "source": [
        "### Model Structure\n",
        "\n",
        "In `__init__` the suggested structure is as follows:\n",
        "* Create and store the necessary dictionaries (this has been done for you)\n",
        "* Define an LSTM layer that takes as params: an input size (the number of characters), a hidden layer size `n_hidden`, a number of layers `n_layers`, a dropout probability `drop_prob`, and a batch_first boolean (True, since we are batching)\n",
        "* Define a dropout layer with `drop_prob`\n",
        "* Define a fully-connected layer with params: input size `n_hidden` and output size (the number of characters)\n",
        "* Finally, initialize the weights (again, this has been given)\n",
        "\n",
        "Note that some parameters have been named and given in the `__init__` function, and we use them and store them by doing something like `self.drop_prob = drop_prob`."
      ]
    },
    {
      "cell_type": "markdown",
      "metadata": {
        "id": "NM7BIf2J0ucD"
      },
      "source": [
        "---\n",
        "### LSTM Inputs/Outputs\n",
        "\n",
        "You can create a basic [LSTM layer](https://pytorch.org/docs/stable/nn.html#lstm) as follows\n",
        "\n",
        "```python\n",
        "self.lstm = nn.LSTM(input_size, n_hidden, n_layers, \n",
        "                            dropout=drop_prob, batch_first=True)\n",
        "```\n",
        "\n",
        "where `input_size` is the number of characters this cell expects to see as sequential input, and `n_hidden` is the number of nodes in the hidden layers in the cell. And we can add dropout by adding a dropout parameter with a specified probability; this will automatically add dropout to the inputs or outputs. Finally, in the `forward` function, we can stack up the LSTM cells into layers using `.view`. With this, you pass in a list of cells and it will send the output of one cell into the next cell.\n",
        "\n",
        "We also need to create an initial hidden state of all zeros. This is done like so\n",
        "\n",
        "```python\n",
        "self.init_hidden()\n",
        "```"
      ]
    },
    {
      "cell_type": "code",
      "metadata": {
        "collapsed": true,
        "colab": {
          "base_uri": "https://localhost:8080/"
        },
        "id": "m84Q-hXh0ucD",
        "outputId": "5e728d03-d9c3-4d3f-fd25-2e024828e2d0"
      },
      "source": [
        "# check if GPU is available\n",
        "train_on_gpu = torch.cuda.is_available()\n",
        "if(train_on_gpu):\n",
        "    print('Training on GPU!')\n",
        "else: \n",
        "    print('No GPU available, training on CPU; consider making n_epochs very small.')"
      ],
      "execution_count": 53,
      "outputs": [
        {
          "output_type": "stream",
          "name": "stdout",
          "text": [
            "Training on GPU!\n"
          ]
        }
      ]
    },
    {
      "cell_type": "code",
      "metadata": {
        "collapsed": true,
        "id": "3GLx1FGO0ucE"
      },
      "source": [
        "class CharRNN(nn.Module):\n",
        "    \n",
        "    def __init__(self, tokens, n_hidden=256, n_layers=2,\n",
        "                               drop_prob=0.5, lr=0.001):\n",
        "        super().__init__()\n",
        "        self.drop_prob = drop_prob\n",
        "        self.n_layers = n_layers\n",
        "        self.n_hidden = n_hidden\n",
        "        self.lr = lr\n",
        "        \n",
        "        # creating character dictionaries\n",
        "        self.chars = tokens\n",
        "        self.int2char = dict(enumerate(self.chars))\n",
        "        self.char2int = {ch: ii for ii, ch in self.int2char.items()}\n",
        "        \n",
        "        ## TODO: define the LSTM\n",
        "        self.lstm = nn.LSTM(len(self.chars), n_hidden, n_layers, \n",
        "                            dropout=drop_prob, batch_first=True)\n",
        "        \n",
        "        ## TODO: define a dropout layer\n",
        "        self.dropout = nn.Dropout(drop_prob)\n",
        "        \n",
        "        ## TODO: define the final, fully-connected output layer\n",
        "        self.fc = nn.Linear(n_hidden, len(self.chars))\n",
        "      \n",
        "    \n",
        "    def forward(self, x, hidden):\n",
        "        ''' Forward pass through the network. \n",
        "            These inputs are x, and the hidden/cell state `hidden`. '''\n",
        "                \n",
        "        ## TODO: Get the outputs and the new hidden state from the lstm\n",
        "        r_output, hidden = self.lstm(x, hidden)\n",
        "        \n",
        "        ## TODO: pass through a dropout layer\n",
        "        out = self.dropout(r_output)\n",
        "        \n",
        "        # Stack up LSTM outputs using view\n",
        "        # you may need to use contiguous to reshape the output\n",
        "        out = out.contiguous().view(-1, self.n_hidden)\n",
        "        \n",
        "        ## TODO: put x through the fully-connected layer\n",
        "        out = self.fc(out)\n",
        "        \n",
        "        # return the final output and the hidden state\n",
        "        return out, hidden\n",
        "    \n",
        "    \n",
        "    def init_hidden(self, batch_size):\n",
        "        ''' Initializes hidden state '''\n",
        "        # Create two new tensors with sizes n_layers x batch_size x n_hidden,\n",
        "        # initialized to zero, for hidden state and cell state of LSTM\n",
        "        weight = next(self.parameters()).data\n",
        "        \n",
        "        if (train_on_gpu):\n",
        "            hidden = (weight.new(self.n_layers, batch_size, self.n_hidden).zero_().cuda(),\n",
        "                  weight.new(self.n_layers, batch_size, self.n_hidden).zero_().cuda())\n",
        "        else:\n",
        "            hidden = (weight.new(self.n_layers, batch_size, self.n_hidden).zero_(),\n",
        "                      weight.new(self.n_layers, batch_size, self.n_hidden).zero_())\n",
        "        \n",
        "        return hidden\n",
        "        "
      ],
      "execution_count": 54,
      "outputs": []
    },
    {
      "cell_type": "markdown",
      "metadata": {
        "id": "nifXF0P-0ucE"
      },
      "source": [
        "## Time to train\n",
        "\n",
        "The train function gives us the ability to set the number of epochs, the learning rate, and other parameters.\n",
        "\n",
        "Below we're using an Adam optimizer and cross entropy loss since we are looking at character class scores as output. We calculate the loss and perform backpropagation, as usual!\n",
        "\n",
        "A couple of details about training: \n",
        ">* Within the batch loop, we detach the hidden state from its history; this time setting it equal to a new *tuple* variable because an LSTM has a hidden state that is a tuple of the hidden and cell states.\n",
        "* We use [`clip_grad_norm_`](https://pytorch.org/docs/stable/_modules/torch/nn/utils/clip_grad.html) to help prevent exploding gradients."
      ]
    },
    {
      "cell_type": "code",
      "metadata": {
        "collapsed": true,
        "id": "bmGVAMn90ucE"
      },
      "source": [
        "def train(net, data, epochs=10, batch_size=10, seq_length=50, lr=0.001, clip=5, val_frac=0.1, print_every=10):\n",
        "    ''' Training a network \n",
        "    \n",
        "        Arguments\n",
        "        ---------\n",
        "        \n",
        "        net: CharRNN network\n",
        "        data: text data to train the network\n",
        "        epochs: Number of epochs to train\n",
        "        batch_size: Number of mini-sequences per mini-batch, aka batch size\n",
        "        seq_length: Number of character steps per mini-batch\n",
        "        lr: learning rate\n",
        "        clip: gradient clipping\n",
        "        val_frac: Fraction of data to hold out for validation\n",
        "        print_every: Number of steps for printing training and validation loss\n",
        "    \n",
        "    '''\n",
        "    net.train()\n",
        "    \n",
        "    opt = torch.optim.Adam(net.parameters(), lr=lr)\n",
        "    criterion = nn.CrossEntropyLoss()\n",
        "    \n",
        "    # create training and validation data\n",
        "    val_idx = int(len(data)*(1-val_frac))\n",
        "    data, val_data = data[:val_idx], data[val_idx:]\n",
        "    \n",
        "    if(train_on_gpu):\n",
        "        net.cuda()\n",
        "    \n",
        "    counter = 0\n",
        "    n_chars = len(net.chars)\n",
        "    for e in range(epochs):\n",
        "        # initialize hidden state\n",
        "        h = net.init_hidden(batch_size)\n",
        "        \n",
        "        for x, y in get_batches(data, batch_size, seq_length):\n",
        "            counter += 1\n",
        "            \n",
        "            # One-hot encode our data and make them Torch tensors\n",
        "            x = one_hot_encode(x, n_chars)\n",
        "            inputs, targets = torch.from_numpy(x), torch.from_numpy(y)\n",
        "            \n",
        "            if(train_on_gpu):\n",
        "                inputs, targets = inputs.cuda(), targets.cuda()\n",
        "\n",
        "            # Creating new variables for the hidden state, otherwise\n",
        "            # we'd backprop through the entire training history\n",
        "            h = tuple([each.data for each in h])\n",
        "\n",
        "            # zero accumulated gradients\n",
        "            net.zero_grad()\n",
        "            \n",
        "            # get the output from the model\n",
        "            output, h = net(inputs, h)\n",
        "            \n",
        "            # calculate the loss and perform backprop\n",
        "            loss = criterion(output, targets.view(batch_size*seq_length).long())\n",
        "            loss.backward()\n",
        "            # `clip_grad_norm` helps prevent the exploding gradient problem in RNNs / LSTMs.\n",
        "            nn.utils.clip_grad_norm_(net.parameters(), clip)\n",
        "            opt.step()\n",
        "            \n",
        "            # loss stats\n",
        "            if counter % print_every == 0:\n",
        "                # Get validation loss\n",
        "                val_h = net.init_hidden(batch_size)\n",
        "                val_losses = []\n",
        "                net.eval()\n",
        "                for x, y in get_batches(val_data, batch_size, seq_length):\n",
        "                    # One-hot encode our data and make them Torch tensors\n",
        "                    x = one_hot_encode(x, n_chars)\n",
        "                    x, y = torch.from_numpy(x), torch.from_numpy(y)\n",
        "                    \n",
        "                    # Creating new variables for the hidden state, otherwise\n",
        "                    # we'd backprop through the entire training history\n",
        "                    val_h = tuple([each.data for each in val_h])\n",
        "                    \n",
        "                    inputs, targets = x, y\n",
        "                    if(train_on_gpu):\n",
        "                        inputs, targets = inputs.cuda(), targets.cuda()\n",
        "\n",
        "                    output, val_h = net(inputs, val_h)\n",
        "                    val_loss = criterion(output, targets.view(batch_size*seq_length).long())\n",
        "                \n",
        "                    val_losses.append(val_loss.item())\n",
        "                \n",
        "                net.train() # reset to train mode after iterationg through validation data\n",
        "                \n",
        "                print(\"Epoch: {}/{}...\".format(e+1, epochs),\n",
        "                      \"Step: {}...\".format(counter),\n",
        "                      \"Loss: {:.4f}...\".format(loss.item()),\n",
        "                      \"Val Loss: {:.4f}\".format(np.mean(val_losses)))"
      ],
      "execution_count": 55,
      "outputs": []
    },
    {
      "cell_type": "markdown",
      "metadata": {
        "id": "wvqtDskU0ucE"
      },
      "source": [
        "## Instantiating the model\n",
        "\n",
        "Now we can actually train the network. First we'll create the network itself, with some given hyperparameters. Then, define the mini-batches sizes, and start training!"
      ]
    },
    {
      "cell_type": "code",
      "metadata": {
        "collapsed": true,
        "colab": {
          "base_uri": "https://localhost:8080/"
        },
        "id": "u2vmj3U30ucE",
        "outputId": "7ac0e98c-6724-466c-9417-7549a6fa538e"
      },
      "source": [
        "## TODO: set your model hyperparameters\n",
        "# define and print the net\n",
        "n_hidden=512\n",
        "n_layers=2\n",
        "\n",
        "net = CharRNN(chars, n_hidden, n_layers)\n",
        "print(net)"
      ],
      "execution_count": 56,
      "outputs": [
        {
          "output_type": "stream",
          "name": "stdout",
          "text": [
            "CharRNN(\n",
            "  (lstm): LSTM(83, 512, num_layers=2, batch_first=True, dropout=0.5)\n",
            "  (dropout): Dropout(p=0.5, inplace=False)\n",
            "  (fc): Linear(in_features=512, out_features=83, bias=True)\n",
            ")\n"
          ]
        }
      ]
    },
    {
      "cell_type": "markdown",
      "metadata": {
        "id": "GBs_7xux0ucE"
      },
      "source": [
        "### Set your training hyperparameters!"
      ]
    },
    {
      "cell_type": "code",
      "metadata": {
        "collapsed": true,
        "scrolled": true,
        "colab": {
          "base_uri": "https://localhost:8080/"
        },
        "id": "EDlsL6wq0ucF",
        "outputId": "b4604cd4-dc4f-4df9-b213-a9f765395079"
      },
      "source": [
        "batch_size = 128\n",
        "seq_length = 100\n",
        "n_epochs =  20 # start small if you are just testing initial behavior\n",
        "\n",
        "# train the model\n",
        "train(net, encoded, epochs=n_epochs, batch_size=batch_size, seq_length=seq_length, lr=0.001, print_every=10)"
      ],
      "execution_count": 57,
      "outputs": [
        {
          "output_type": "stream",
          "name": "stdout",
          "text": [
            "Epoch: 1/20... Step: 10... Loss: 3.2877... Val Loss: 3.2461\n",
            "Epoch: 1/20... Step: 20... Loss: 3.1457... Val Loss: 3.1371\n",
            "Epoch: 1/20... Step: 30... Loss: 3.1436... Val Loss: 3.1234\n",
            "Epoch: 1/20... Step: 40... Loss: 3.1161... Val Loss: 3.1184\n",
            "Epoch: 1/20... Step: 50... Loss: 3.1473... Val Loss: 3.1180\n",
            "Epoch: 1/20... Step: 60... Loss: 3.1213... Val Loss: 3.1165\n",
            "Epoch: 1/20... Step: 70... Loss: 3.1110... Val Loss: 3.1156\n",
            "Epoch: 1/20... Step: 80... Loss: 3.1253... Val Loss: 3.1133\n",
            "Epoch: 1/20... Step: 90... Loss: 3.1240... Val Loss: 3.1084\n",
            "Epoch: 1/20... Step: 100... Loss: 3.1047... Val Loss: 3.0964\n",
            "Epoch: 1/20... Step: 110... Loss: 3.0871... Val Loss: 3.0691\n",
            "Epoch: 1/20... Step: 120... Loss: 3.0057... Val Loss: 3.0021\n",
            "Epoch: 1/20... Step: 130... Loss: 2.9400... Val Loss: 2.8929\n",
            "Epoch: 2/20... Step: 140... Loss: 2.8406... Val Loss: 2.7965\n",
            "Epoch: 2/20... Step: 150... Loss: 2.7210... Val Loss: 2.6888\n",
            "Epoch: 2/20... Step: 160... Loss: 2.6144... Val Loss: 2.5803\n",
            "Epoch: 2/20... Step: 170... Loss: 2.5323... Val Loss: 2.5098\n",
            "Epoch: 2/20... Step: 180... Loss: 2.4946... Val Loss: 2.4639\n",
            "Epoch: 2/20... Step: 190... Loss: 2.4373... Val Loss: 2.4241\n",
            "Epoch: 2/20... Step: 200... Loss: 2.4386... Val Loss: 2.3956\n",
            "Epoch: 2/20... Step: 210... Loss: 2.3968... Val Loss: 2.3709\n",
            "Epoch: 2/20... Step: 220... Loss: 2.3686... Val Loss: 2.3427\n",
            "Epoch: 2/20... Step: 230... Loss: 2.3544... Val Loss: 2.3236\n",
            "Epoch: 2/20... Step: 240... Loss: 2.3255... Val Loss: 2.2925\n",
            "Epoch: 2/20... Step: 250... Loss: 2.2726... Val Loss: 2.2683\n",
            "Epoch: 2/20... Step: 260... Loss: 2.2345... Val Loss: 2.2389\n",
            "Epoch: 2/20... Step: 270... Loss: 2.2354... Val Loss: 2.2127\n",
            "Epoch: 3/20... Step: 280... Loss: 2.2434... Val Loss: 2.1936\n",
            "Epoch: 3/20... Step: 290... Loss: 2.1974... Val Loss: 2.1671\n",
            "Epoch: 3/20... Step: 300... Loss: 2.1676... Val Loss: 2.1440\n",
            "Epoch: 3/20... Step: 310... Loss: 2.1447... Val Loss: 2.1225\n",
            "Epoch: 3/20... Step: 320... Loss: 2.1107... Val Loss: 2.1012\n",
            "Epoch: 3/20... Step: 330... Loss: 2.0812... Val Loss: 2.0855\n",
            "Epoch: 3/20... Step: 340... Loss: 2.1048... Val Loss: 2.0627\n",
            "Epoch: 3/20... Step: 350... Loss: 2.0928... Val Loss: 2.0468\n",
            "Epoch: 3/20... Step: 360... Loss: 2.0266... Val Loss: 2.0276\n",
            "Epoch: 3/20... Step: 370... Loss: 2.0393... Val Loss: 2.0074\n",
            "Epoch: 3/20... Step: 380... Loss: 2.0159... Val Loss: 1.9898\n",
            "Epoch: 3/20... Step: 390... Loss: 1.9949... Val Loss: 1.9739\n",
            "Epoch: 3/20... Step: 400... Loss: 1.9570... Val Loss: 1.9575\n",
            "Epoch: 3/20... Step: 410... Loss: 1.9706... Val Loss: 1.9451\n",
            "Epoch: 4/20... Step: 420... Loss: 1.9564... Val Loss: 1.9266\n",
            "Epoch: 4/20... Step: 430... Loss: 1.9441... Val Loss: 1.9107\n",
            "Epoch: 4/20... Step: 440... Loss: 1.9297... Val Loss: 1.9047\n",
            "Epoch: 4/20... Step: 450... Loss: 1.8688... Val Loss: 1.8904\n",
            "Epoch: 4/20... Step: 460... Loss: 1.8644... Val Loss: 1.8774\n",
            "Epoch: 4/20... Step: 470... Loss: 1.8952... Val Loss: 1.8662\n",
            "Epoch: 4/20... Step: 480... Loss: 1.8704... Val Loss: 1.8489\n",
            "Epoch: 4/20... Step: 490... Loss: 1.8729... Val Loss: 1.8371\n",
            "Epoch: 4/20... Step: 500... Loss: 1.8643... Val Loss: 1.8237\n",
            "Epoch: 4/20... Step: 510... Loss: 1.8333... Val Loss: 1.8137\n",
            "Epoch: 4/20... Step: 520... Loss: 1.8538... Val Loss: 1.8049\n",
            "Epoch: 4/20... Step: 530... Loss: 1.8115... Val Loss: 1.7933\n",
            "Epoch: 4/20... Step: 540... Loss: 1.7814... Val Loss: 1.7858\n",
            "Epoch: 4/20... Step: 550... Loss: 1.8152... Val Loss: 1.7756\n",
            "Epoch: 5/20... Step: 560... Loss: 1.7880... Val Loss: 1.7660\n",
            "Epoch: 5/20... Step: 570... Loss: 1.7786... Val Loss: 1.7546\n",
            "Epoch: 5/20... Step: 580... Loss: 1.7522... Val Loss: 1.7467\n",
            "Epoch: 5/20... Step: 590... Loss: 1.7488... Val Loss: 1.7379\n",
            "Epoch: 5/20... Step: 600... Loss: 1.7427... Val Loss: 1.7292\n",
            "Epoch: 5/20... Step: 610... Loss: 1.7158... Val Loss: 1.7244\n",
            "Epoch: 5/20... Step: 620... Loss: 1.7294... Val Loss: 1.7105\n",
            "Epoch: 5/20... Step: 630... Loss: 1.7390... Val Loss: 1.7039\n",
            "Epoch: 5/20... Step: 640... Loss: 1.7052... Val Loss: 1.6951\n",
            "Epoch: 5/20... Step: 650... Loss: 1.7010... Val Loss: 1.6872\n",
            "Epoch: 5/20... Step: 660... Loss: 1.6684... Val Loss: 1.6821\n",
            "Epoch: 5/20... Step: 670... Loss: 1.6993... Val Loss: 1.6749\n",
            "Epoch: 5/20... Step: 680... Loss: 1.6947... Val Loss: 1.6722\n",
            "Epoch: 5/20... Step: 690... Loss: 1.6612... Val Loss: 1.6601\n",
            "Epoch: 6/20... Step: 700... Loss: 1.6762... Val Loss: 1.6558\n",
            "Epoch: 6/20... Step: 710... Loss: 1.6569... Val Loss: 1.6527\n",
            "Epoch: 6/20... Step: 720... Loss: 1.6480... Val Loss: 1.6438\n",
            "Epoch: 6/20... Step: 730... Loss: 1.6685... Val Loss: 1.6378\n",
            "Epoch: 6/20... Step: 740... Loss: 1.6309... Val Loss: 1.6312\n",
            "Epoch: 6/20... Step: 750... Loss: 1.6122... Val Loss: 1.6259\n",
            "Epoch: 6/20... Step: 760... Loss: 1.6558... Val Loss: 1.6194\n",
            "Epoch: 6/20... Step: 770... Loss: 1.6286... Val Loss: 1.6145\n",
            "Epoch: 6/20... Step: 780... Loss: 1.6135... Val Loss: 1.6070\n",
            "Epoch: 6/20... Step: 790... Loss: 1.5933... Val Loss: 1.6053\n",
            "Epoch: 6/20... Step: 800... Loss: 1.6210... Val Loss: 1.5983\n",
            "Epoch: 6/20... Step: 810... Loss: 1.6028... Val Loss: 1.5964\n",
            "Epoch: 6/20... Step: 820... Loss: 1.5722... Val Loss: 1.5940\n",
            "Epoch: 6/20... Step: 830... Loss: 1.6122... Val Loss: 1.5857\n",
            "Epoch: 7/20... Step: 840... Loss: 1.5619... Val Loss: 1.5802\n",
            "Epoch: 7/20... Step: 850... Loss: 1.5778... Val Loss: 1.5785\n",
            "Epoch: 7/20... Step: 860... Loss: 1.5751... Val Loss: 1.5707\n",
            "Epoch: 7/20... Step: 870... Loss: 1.5720... Val Loss: 1.5655\n",
            "Epoch: 7/20... Step: 880... Loss: 1.5798... Val Loss: 1.5612\n",
            "Epoch: 7/20... Step: 890... Loss: 1.5700... Val Loss: 1.5599\n",
            "Epoch: 7/20... Step: 900... Loss: 1.5494... Val Loss: 1.5518\n",
            "Epoch: 7/20... Step: 910... Loss: 1.5241... Val Loss: 1.5524\n",
            "Epoch: 7/20... Step: 920... Loss: 1.5511... Val Loss: 1.5443\n",
            "Epoch: 7/20... Step: 930... Loss: 1.5242... Val Loss: 1.5426\n",
            "Epoch: 7/20... Step: 940... Loss: 1.5357... Val Loss: 1.5369\n",
            "Epoch: 7/20... Step: 950... Loss: 1.5558... Val Loss: 1.5338\n",
            "Epoch: 7/20... Step: 960... Loss: 1.5517... Val Loss: 1.5334\n",
            "Epoch: 7/20... Step: 970... Loss: 1.5594... Val Loss: 1.5264\n",
            "Epoch: 8/20... Step: 980... Loss: 1.5176... Val Loss: 1.5241\n",
            "Epoch: 8/20... Step: 990... Loss: 1.5255... Val Loss: 1.5201\n",
            "Epoch: 8/20... Step: 1000... Loss: 1.5141... Val Loss: 1.5165\n",
            "Epoch: 8/20... Step: 1010... Loss: 1.5464... Val Loss: 1.5121\n",
            "Epoch: 8/20... Step: 1020... Loss: 1.5233... Val Loss: 1.5109\n",
            "Epoch: 8/20... Step: 1030... Loss: 1.5060... Val Loss: 1.5042\n",
            "Epoch: 8/20... Step: 1040... Loss: 1.5161... Val Loss: 1.5060\n",
            "Epoch: 8/20... Step: 1050... Loss: 1.4926... Val Loss: 1.5010\n",
            "Epoch: 8/20... Step: 1060... Loss: 1.4890... Val Loss: 1.4930\n",
            "Epoch: 8/20... Step: 1070... Loss: 1.5004... Val Loss: 1.4924\n",
            "Epoch: 8/20... Step: 1080... Loss: 1.5046... Val Loss: 1.4910\n",
            "Epoch: 8/20... Step: 1090... Loss: 1.4783... Val Loss: 1.4871\n",
            "Epoch: 8/20... Step: 1100... Loss: 1.4795... Val Loss: 1.4858\n",
            "Epoch: 8/20... Step: 1110... Loss: 1.4688... Val Loss: 1.4830\n",
            "Epoch: 9/20... Step: 1120... Loss: 1.4897... Val Loss: 1.4812\n",
            "Epoch: 9/20... Step: 1130... Loss: 1.4862... Val Loss: 1.4786\n",
            "Epoch: 9/20... Step: 1140... Loss: 1.4866... Val Loss: 1.4760\n",
            "Epoch: 9/20... Step: 1150... Loss: 1.4952... Val Loss: 1.4731\n",
            "Epoch: 9/20... Step: 1160... Loss: 1.4528... Val Loss: 1.4692\n",
            "Epoch: 9/20... Step: 1170... Loss: 1.4682... Val Loss: 1.4696\n",
            "Epoch: 9/20... Step: 1180... Loss: 1.4520... Val Loss: 1.4674\n",
            "Epoch: 9/20... Step: 1190... Loss: 1.4925... Val Loss: 1.4639\n",
            "Epoch: 9/20... Step: 1200... Loss: 1.4326... Val Loss: 1.4547\n",
            "Epoch: 9/20... Step: 1210... Loss: 1.4454... Val Loss: 1.4550\n",
            "Epoch: 9/20... Step: 1220... Loss: 1.4497... Val Loss: 1.4514\n",
            "Epoch: 9/20... Step: 1230... Loss: 1.4314... Val Loss: 1.4509\n",
            "Epoch: 9/20... Step: 1240... Loss: 1.4475... Val Loss: 1.4489\n",
            "Epoch: 9/20... Step: 1250... Loss: 1.4485... Val Loss: 1.4447\n",
            "Epoch: 10/20... Step: 1260... Loss: 1.4489... Val Loss: 1.4468\n",
            "Epoch: 10/20... Step: 1270... Loss: 1.4402... Val Loss: 1.4473\n",
            "Epoch: 10/20... Step: 1280... Loss: 1.4503... Val Loss: 1.4410\n",
            "Epoch: 10/20... Step: 1290... Loss: 1.4376... Val Loss: 1.4389\n",
            "Epoch: 10/20... Step: 1300... Loss: 1.4290... Val Loss: 1.4386\n",
            "Epoch: 10/20... Step: 1310... Loss: 1.4311... Val Loss: 1.4362\n",
            "Epoch: 10/20... Step: 1320... Loss: 1.4053... Val Loss: 1.4340\n",
            "Epoch: 10/20... Step: 1330... Loss: 1.4193... Val Loss: 1.4303\n",
            "Epoch: 10/20... Step: 1340... Loss: 1.4026... Val Loss: 1.4274\n",
            "Epoch: 10/20... Step: 1350... Loss: 1.3957... Val Loss: 1.4274\n",
            "Epoch: 10/20... Step: 1360... Loss: 1.4043... Val Loss: 1.4247\n",
            "Epoch: 10/20... Step: 1370... Loss: 1.3868... Val Loss: 1.4227\n",
            "Epoch: 10/20... Step: 1380... Loss: 1.4258... Val Loss: 1.4207\n",
            "Epoch: 10/20... Step: 1390... Loss: 1.4476... Val Loss: 1.4180\n",
            "Epoch: 11/20... Step: 1400... Loss: 1.4326... Val Loss: 1.4167\n",
            "Epoch: 11/20... Step: 1410... Loss: 1.4482... Val Loss: 1.4186\n",
            "Epoch: 11/20... Step: 1420... Loss: 1.4325... Val Loss: 1.4149\n",
            "Epoch: 11/20... Step: 1430... Loss: 1.4040... Val Loss: 1.4141\n",
            "Epoch: 11/20... Step: 1440... Loss: 1.4278... Val Loss: 1.4072\n",
            "Epoch: 11/20... Step: 1450... Loss: 1.3487... Val Loss: 1.4099\n",
            "Epoch: 11/20... Step: 1460... Loss: 1.3787... Val Loss: 1.4055\n",
            "Epoch: 11/20... Step: 1470... Loss: 1.3697... Val Loss: 1.4042\n",
            "Epoch: 11/20... Step: 1480... Loss: 1.3942... Val Loss: 1.3999\n",
            "Epoch: 11/20... Step: 1490... Loss: 1.3976... Val Loss: 1.3994\n",
            "Epoch: 11/20... Step: 1500... Loss: 1.3767... Val Loss: 1.4024\n",
            "Epoch: 11/20... Step: 1510... Loss: 1.3555... Val Loss: 1.3989\n",
            "Epoch: 11/20... Step: 1520... Loss: 1.3958... Val Loss: 1.3994\n",
            "Epoch: 12/20... Step: 1530... Loss: 1.4426... Val Loss: 1.3950\n",
            "Epoch: 12/20... Step: 1540... Loss: 1.3969... Val Loss: 1.3926\n",
            "Epoch: 12/20... Step: 1550... Loss: 1.3964... Val Loss: 1.3936\n",
            "Epoch: 12/20... Step: 1560... Loss: 1.4036... Val Loss: 1.3902\n",
            "Epoch: 12/20... Step: 1570... Loss: 1.3551... Val Loss: 1.3899\n",
            "Epoch: 12/20... Step: 1580... Loss: 1.3320... Val Loss: 1.3865\n",
            "Epoch: 12/20... Step: 1590... Loss: 1.3342... Val Loss: 1.3871\n",
            "Epoch: 12/20... Step: 1600... Loss: 1.3596... Val Loss: 1.3820\n",
            "Epoch: 12/20... Step: 1610... Loss: 1.3514... Val Loss: 1.3856\n",
            "Epoch: 12/20... Step: 1620... Loss: 1.3505... Val Loss: 1.3812\n",
            "Epoch: 12/20... Step: 1630... Loss: 1.3742... Val Loss: 1.3780\n",
            "Epoch: 12/20... Step: 1640... Loss: 1.3524... Val Loss: 1.3794\n",
            "Epoch: 12/20... Step: 1650... Loss: 1.3201... Val Loss: 1.3801\n",
            "Epoch: 12/20... Step: 1660... Loss: 1.3789... Val Loss: 1.3770\n",
            "Epoch: 13/20... Step: 1670... Loss: 1.3521... Val Loss: 1.3795\n",
            "Epoch: 13/20... Step: 1680... Loss: 1.3597... Val Loss: 1.3728\n",
            "Epoch: 13/20... Step: 1690... Loss: 1.3388... Val Loss: 1.3737\n",
            "Epoch: 13/20... Step: 1700... Loss: 1.3397... Val Loss: 1.3701\n",
            "Epoch: 13/20... Step: 1710... Loss: 1.3248... Val Loss: 1.3688\n",
            "Epoch: 13/20... Step: 1720... Loss: 1.3356... Val Loss: 1.3638\n",
            "Epoch: 13/20... Step: 1730... Loss: 1.3628... Val Loss: 1.3697\n",
            "Epoch: 13/20... Step: 1740... Loss: 1.3312... Val Loss: 1.3670\n",
            "Epoch: 13/20... Step: 1750... Loss: 1.3036... Val Loss: 1.3680\n",
            "Epoch: 13/20... Step: 1760... Loss: 1.3337... Val Loss: 1.3611\n",
            "Epoch: 13/20... Step: 1770... Loss: 1.3493... Val Loss: 1.3614\n",
            "Epoch: 13/20... Step: 1780... Loss: 1.3228... Val Loss: 1.3647\n",
            "Epoch: 13/20... Step: 1790... Loss: 1.3097... Val Loss: 1.3578\n",
            "Epoch: 13/20... Step: 1800... Loss: 1.3344... Val Loss: 1.3561\n",
            "Epoch: 14/20... Step: 1810... Loss: 1.3457... Val Loss: 1.3622\n",
            "Epoch: 14/20... Step: 1820... Loss: 1.3238... Val Loss: 1.3564\n",
            "Epoch: 14/20... Step: 1830... Loss: 1.3465... Val Loss: 1.3558\n",
            "Epoch: 14/20... Step: 1840... Loss: 1.2910... Val Loss: 1.3570\n",
            "Epoch: 14/20... Step: 1850... Loss: 1.2716... Val Loss: 1.3534\n",
            "Epoch: 14/20... Step: 1860... Loss: 1.3298... Val Loss: 1.3512\n",
            "Epoch: 14/20... Step: 1870... Loss: 1.3415... Val Loss: 1.3551\n",
            "Epoch: 14/20... Step: 1880... Loss: 1.3360... Val Loss: 1.3548\n",
            "Epoch: 14/20... Step: 1890... Loss: 1.3523... Val Loss: 1.3517\n",
            "Epoch: 14/20... Step: 1900... Loss: 1.3181... Val Loss: 1.3490\n",
            "Epoch: 14/20... Step: 1910... Loss: 1.3306... Val Loss: 1.3494\n",
            "Epoch: 14/20... Step: 1920... Loss: 1.3109... Val Loss: 1.3493\n",
            "Epoch: 14/20... Step: 1930... Loss: 1.2792... Val Loss: 1.3468\n",
            "Epoch: 14/20... Step: 1940... Loss: 1.3366... Val Loss: 1.3467\n",
            "Epoch: 15/20... Step: 1950... Loss: 1.3052... Val Loss: 1.3484\n",
            "Epoch: 15/20... Step: 1960... Loss: 1.3097... Val Loss: 1.3454\n",
            "Epoch: 15/20... Step: 1970... Loss: 1.3043... Val Loss: 1.3416\n",
            "Epoch: 15/20... Step: 1980... Loss: 1.2978... Val Loss: 1.3457\n",
            "Epoch: 15/20... Step: 1990... Loss: 1.2953... Val Loss: 1.3439\n",
            "Epoch: 15/20... Step: 2000... Loss: 1.2816... Val Loss: 1.3388\n",
            "Epoch: 15/20... Step: 2010... Loss: 1.3043... Val Loss: 1.3403\n",
            "Epoch: 15/20... Step: 2020... Loss: 1.3143... Val Loss: 1.3388\n",
            "Epoch: 15/20... Step: 2030... Loss: 1.2928... Val Loss: 1.3415\n",
            "Epoch: 15/20... Step: 2040... Loss: 1.2981... Val Loss: 1.3371\n",
            "Epoch: 15/20... Step: 2050... Loss: 1.2864... Val Loss: 1.3327\n",
            "Epoch: 15/20... Step: 2060... Loss: 1.2910... Val Loss: 1.3351\n",
            "Epoch: 15/20... Step: 2070... Loss: 1.3025... Val Loss: 1.3333\n",
            "Epoch: 15/20... Step: 2080... Loss: 1.2961... Val Loss: 1.3338\n",
            "Epoch: 16/20... Step: 2090... Loss: 1.3107... Val Loss: 1.3371\n",
            "Epoch: 16/20... Step: 2100... Loss: 1.2910... Val Loss: 1.3307\n",
            "Epoch: 16/20... Step: 2110... Loss: 1.2829... Val Loss: 1.3336\n",
            "Epoch: 16/20... Step: 2120... Loss: 1.2930... Val Loss: 1.3381\n",
            "Epoch: 16/20... Step: 2130... Loss: 1.2746... Val Loss: 1.3326\n",
            "Epoch: 16/20... Step: 2140... Loss: 1.2727... Val Loss: 1.3273\n",
            "Epoch: 16/20... Step: 2150... Loss: 1.3030... Val Loss: 1.3289\n",
            "Epoch: 16/20... Step: 2160... Loss: 1.2872... Val Loss: 1.3279\n",
            "Epoch: 16/20... Step: 2170... Loss: 1.2778... Val Loss: 1.3279\n",
            "Epoch: 16/20... Step: 2180... Loss: 1.2675... Val Loss: 1.3254\n",
            "Epoch: 16/20... Step: 2190... Loss: 1.2964... Val Loss: 1.3262\n",
            "Epoch: 16/20... Step: 2200... Loss: 1.2732... Val Loss: 1.3259\n",
            "Epoch: 16/20... Step: 2210... Loss: 1.2366... Val Loss: 1.3239\n",
            "Epoch: 16/20... Step: 2220... Loss: 1.2899... Val Loss: 1.3281\n",
            "Epoch: 17/20... Step: 2230... Loss: 1.2633... Val Loss: 1.3252\n",
            "Epoch: 17/20... Step: 2240... Loss: 1.2752... Val Loss: 1.3222\n",
            "Epoch: 17/20... Step: 2250... Loss: 1.2569... Val Loss: 1.3254\n",
            "Epoch: 17/20... Step: 2260... Loss: 1.2685... Val Loss: 1.3250\n",
            "Epoch: 17/20... Step: 2270... Loss: 1.2649... Val Loss: 1.3188\n",
            "Epoch: 17/20... Step: 2280... Loss: 1.2805... Val Loss: 1.3154\n",
            "Epoch: 17/20... Step: 2290... Loss: 1.2778... Val Loss: 1.3169\n",
            "Epoch: 17/20... Step: 2300... Loss: 1.2368... Val Loss: 1.3177\n",
            "Epoch: 17/20... Step: 2310... Loss: 1.2585... Val Loss: 1.3154\n",
            "Epoch: 17/20... Step: 2320... Loss: 1.2579... Val Loss: 1.3120\n",
            "Epoch: 17/20... Step: 2330... Loss: 1.2473... Val Loss: 1.3111\n",
            "Epoch: 17/20... Step: 2340... Loss: 1.2689... Val Loss: 1.3156\n",
            "Epoch: 17/20... Step: 2350... Loss: 1.2798... Val Loss: 1.3114\n",
            "Epoch: 17/20... Step: 2360... Loss: 1.2720... Val Loss: 1.3127\n",
            "Epoch: 18/20... Step: 2370... Loss: 1.2490... Val Loss: 1.3131\n",
            "Epoch: 18/20... Step: 2380... Loss: 1.2454... Val Loss: 1.3094\n",
            "Epoch: 18/20... Step: 2390... Loss: 1.2611... Val Loss: 1.3099\n",
            "Epoch: 18/20... Step: 2400... Loss: 1.2845... Val Loss: 1.3098\n",
            "Epoch: 18/20... Step: 2410... Loss: 1.2755... Val Loss: 1.3046\n",
            "Epoch: 18/20... Step: 2420... Loss: 1.2462... Val Loss: 1.2990\n",
            "Epoch: 18/20... Step: 2430... Loss: 1.2676... Val Loss: 1.3052\n",
            "Epoch: 18/20... Step: 2440... Loss: 1.2427... Val Loss: 1.3076\n",
            "Epoch: 18/20... Step: 2450... Loss: 1.2375... Val Loss: 1.3017\n",
            "Epoch: 18/20... Step: 2460... Loss: 1.2461... Val Loss: 1.2983\n",
            "Epoch: 18/20... Step: 2470... Loss: 1.2382... Val Loss: 1.2964\n",
            "Epoch: 18/20... Step: 2480... Loss: 1.2320... Val Loss: 1.3029\n",
            "Epoch: 18/20... Step: 2490... Loss: 1.2380... Val Loss: 1.2979\n",
            "Epoch: 18/20... Step: 2500... Loss: 1.2415... Val Loss: 1.2991\n",
            "Epoch: 19/20... Step: 2510... Loss: 1.2379... Val Loss: 1.2949\n",
            "Epoch: 19/20... Step: 2520... Loss: 1.2506... Val Loss: 1.2949\n",
            "Epoch: 19/20... Step: 2530... Loss: 1.2569... Val Loss: 1.2959\n",
            "Epoch: 19/20... Step: 2540... Loss: 1.2665... Val Loss: 1.2985\n",
            "Epoch: 19/20... Step: 2550... Loss: 1.2272... Val Loss: 1.2916\n",
            "Epoch: 19/20... Step: 2560... Loss: 1.2442... Val Loss: 1.2853\n",
            "Epoch: 19/20... Step: 2570... Loss: 1.2266... Val Loss: 1.2932\n",
            "Epoch: 19/20... Step: 2580... Loss: 1.2655... Val Loss: 1.2972\n",
            "Epoch: 19/20... Step: 2590... Loss: 1.2221... Val Loss: 1.2882\n",
            "Epoch: 19/20... Step: 2600... Loss: 1.2308... Val Loss: 1.2823\n",
            "Epoch: 19/20... Step: 2610... Loss: 1.2268... Val Loss: 1.2857\n",
            "Epoch: 19/20... Step: 2620... Loss: 1.2120... Val Loss: 1.2877\n",
            "Epoch: 19/20... Step: 2630... Loss: 1.2118... Val Loss: 1.2836\n",
            "Epoch: 19/20... Step: 2640... Loss: 1.2309... Val Loss: 1.2900\n",
            "Epoch: 20/20... Step: 2650... Loss: 1.2311... Val Loss: 1.2869\n",
            "Epoch: 20/20... Step: 2660... Loss: 1.2354... Val Loss: 1.2815\n",
            "Epoch: 20/20... Step: 2670... Loss: 1.2422... Val Loss: 1.2840\n",
            "Epoch: 20/20... Step: 2680... Loss: 1.2296... Val Loss: 1.2848\n",
            "Epoch: 20/20... Step: 2690... Loss: 1.2246... Val Loss: 1.2801\n",
            "Epoch: 20/20... Step: 2700... Loss: 1.2318... Val Loss: 1.2743\n",
            "Epoch: 20/20... Step: 2710... Loss: 1.2110... Val Loss: 1.2795\n",
            "Epoch: 20/20... Step: 2720... Loss: 1.2098... Val Loss: 1.2833\n",
            "Epoch: 20/20... Step: 2730... Loss: 1.2000... Val Loss: 1.2778\n",
            "Epoch: 20/20... Step: 2740... Loss: 1.1966... Val Loss: 1.2789\n",
            "Epoch: 20/20... Step: 2750... Loss: 1.2033... Val Loss: 1.2729\n",
            "Epoch: 20/20... Step: 2760... Loss: 1.1996... Val Loss: 1.2860\n",
            "Epoch: 20/20... Step: 2770... Loss: 1.2341... Val Loss: 1.2758\n",
            "Epoch: 20/20... Step: 2780... Loss: 1.2541... Val Loss: 1.2745\n"
          ]
        }
      ]
    },
    {
      "cell_type": "markdown",
      "metadata": {
        "id": "rrQy0t9v0ucF"
      },
      "source": [
        "## Getting the best model\n",
        "\n",
        "To set your hyperparameters to get the best performance, you'll want to watch the training and validation losses. If your training loss is much lower than the validation loss, you're overfitting. Increase regularization (more dropout) or use a smaller network. If the training and validation losses are close, you're underfitting so you can increase the size of the network."
      ]
    },
    {
      "cell_type": "markdown",
      "metadata": {
        "id": "UovlHegr0ucF"
      },
      "source": [
        "## Hyperparameters\n",
        "\n",
        "Here are the hyperparameters for the network.\n",
        "\n",
        "In defining the model:\n",
        "* `n_hidden` - The number of units in the hidden layers.\n",
        "* `n_layers` - Number of hidden LSTM layers to use.\n",
        "\n",
        "We assume that dropout probability and learning rate will be kept at the default, in this example.\n",
        "\n",
        "And in training:\n",
        "* `batch_size` - Number of sequences running through the network in one pass.\n",
        "* `seq_length` - Number of characters in the sequence the network is trained on. Larger is better typically, the network will learn more long range dependencies. But it takes longer to train. 100 is typically a good number here.\n",
        "* `lr` - Learning rate for training\n",
        "\n",
        "Here's some good advice from Andrej Karpathy on training the network. I'm going to copy it in here for your benefit, but also link to [where it originally came from](https://github.com/karpathy/char-rnn#tips-and-tricks).\n",
        "\n",
        "> ## Tips and Tricks\n",
        "\n",
        ">### Monitoring Validation Loss vs. Training Loss\n",
        ">If you're somewhat new to Machine Learning or Neural Networks it can take a bit of expertise to get good models. The most important quantity to keep track of is the difference between your training loss (printed during training) and the validation loss (printed once in a while when the RNN is run on the validation data (by default every 1000 iterations)). In particular:\n",
        "\n",
        "> - If your training loss is much lower than validation loss then this means the network might be **overfitting**. Solutions to this are to decrease your network size, or to increase dropout. For example you could try dropout of 0.5 and so on.\n",
        "> - If your training/validation loss are about equal then your model is **underfitting**. Increase the size of your model (either number of layers or the raw number of neurons per layer)\n",
        "\n",
        "> ### Approximate number of parameters\n",
        "\n",
        "> The two most important parameters that control the model are `n_hidden` and `n_layers`. I would advise that you always use `n_layers` of either 2/3. The `n_hidden` can be adjusted based on how much data you have. The two important quantities to keep track of here are:\n",
        "\n",
        "> - The number of parameters in your model. This is printed when you start training.\n",
        "> - The size of your dataset. 1MB file is approximately 1 million characters.\n",
        "\n",
        ">These two should be about the same order of magnitude. It's a little tricky to tell. Here are some examples:\n",
        "\n",
        "> - I have a 100MB dataset and I'm using the default parameter settings (which currently print 150K parameters). My data size is significantly larger (100 mil >> 0.15 mil), so I expect to heavily underfit. I am thinking I can comfortably afford to make `n_hidden` larger.\n",
        "> - I have a 10MB dataset and running a 10 million parameter model. I'm slightly nervous and I'm carefully monitoring my validation loss. If it's larger than my training loss then I may want to try to increase dropout a bit and see if that helps the validation loss.\n",
        "\n",
        "> ### Best models strategy\n",
        "\n",
        ">The winning strategy to obtaining very good models (if you have the compute time) is to always err on making the network larger (as large as you're willing to wait for it to compute) and then try different dropout values (between 0,1). Whatever model has the best validation performance (the loss, written in the checkpoint filename, low is good) is the one you should use in the end.\n",
        "\n",
        ">It is very common in deep learning to run many different models with many different hyperparameter settings, and in the end take whatever checkpoint gave the best validation performance.\n",
        "\n",
        ">By the way, the size of your training and validation splits are also parameters. Make sure you have a decent amount of data in your validation set or otherwise the validation performance will be noisy and not very informative."
      ]
    },
    {
      "cell_type": "markdown",
      "metadata": {
        "id": "vu50jdHH0ucF"
      },
      "source": [
        "## Checkpoint\n",
        "\n",
        "After training, we'll save the model so we can load it again later if we need too. Here I'm saving the parameters needed to create the same architecture, the hidden layer hyperparameters and the text characters."
      ]
    },
    {
      "cell_type": "code",
      "metadata": {
        "collapsed": true,
        "id": "LVS1-Pn-0ucF"
      },
      "source": [
        "# change the name, for saving multiple files\n",
        "model_name = 'rnn_x_epoch.net'\n",
        "\n",
        "checkpoint = {'n_hidden': net.n_hidden,\n",
        "              'n_layers': net.n_layers,\n",
        "              'state_dict': net.state_dict(),\n",
        "              'tokens': net.chars}\n",
        "\n",
        "with open(model_name, 'wb') as f:\n",
        "    torch.save(checkpoint, f)"
      ],
      "execution_count": 58,
      "outputs": []
    },
    {
      "cell_type": "markdown",
      "metadata": {
        "id": "3gDTRFm30ucF"
      },
      "source": [
        "---\n",
        "## Making Predictions\n",
        "\n",
        "Now that the model is trained, we'll want to sample from it and make predictions about next characters! To sample, we pass in a character and have the network predict the next character. Then we take that character, pass it back in, and get another predicted character. Just keep doing this and you'll generate a bunch of text!\n",
        "\n",
        "### A note on the `predict`  function\n",
        "\n",
        "The output of our RNN is from a fully-connected layer and it outputs a **distribution of next-character scores**.\n",
        "\n",
        "> To actually get the next character, we apply a softmax function, which gives us a *probability* distribution that we can then sample to predict the next character.\n",
        "\n",
        "### Top K sampling\n",
        "\n",
        "Our predictions come from a categorical probability distribution over all the possible characters. We can make the sample text and make it more reasonable to handle (with less variables) by only considering some $K$ most probable characters. This will prevent the network from giving us completely absurd characters while allowing it to introduce some noise and randomness into the sampled text. Read more about [topk, here](https://pytorch.org/docs/stable/torch.html#torch.topk).\n"
      ]
    },
    {
      "cell_type": "code",
      "metadata": {
        "collapsed": true,
        "id": "pnYvS7q30ucF"
      },
      "source": [
        "def predict(net, char, h=None, top_k=None):\n",
        "        ''' Given a character, predict the next character.\n",
        "            Returns the predicted character and the hidden state.\n",
        "        '''\n",
        "        \n",
        "        # tensor inputs\n",
        "        x = np.array([[net.char2int[char]]])\n",
        "        x = one_hot_encode(x, len(net.chars))\n",
        "        inputs = torch.from_numpy(x)\n",
        "        \n",
        "        if(train_on_gpu):\n",
        "            inputs = inputs.cuda()\n",
        "        \n",
        "        # detach hidden state from history\n",
        "        h = tuple([each.data for each in h])\n",
        "        # get the output of the model\n",
        "        out, h = net(inputs, h)\n",
        "\n",
        "        # get the character probabilities\n",
        "        p = F.softmax(out, dim=1).data\n",
        "        if(train_on_gpu):\n",
        "            p = p.cpu() # move to cpu\n",
        "        \n",
        "        # get top characters\n",
        "        if top_k is None:\n",
        "            top_ch = np.arange(len(net.chars))\n",
        "        else:\n",
        "            p, top_ch = p.topk(top_k)\n",
        "            top_ch = top_ch.numpy().squeeze()\n",
        "        \n",
        "        # select the likely next character with some element of randomness\n",
        "        p = p.numpy().squeeze()\n",
        "        char = np.random.choice(top_ch, p=p/p.sum())\n",
        "        \n",
        "        # return the encoded value of the predicted char and the hidden state\n",
        "        return net.int2char[char], h"
      ],
      "execution_count": 59,
      "outputs": []
    },
    {
      "cell_type": "markdown",
      "metadata": {
        "id": "4D6EFgO80ucG"
      },
      "source": [
        "### Priming and generating text \n",
        "\n",
        "Typically you'll want to prime the network so you can build up a hidden state. Otherwise the network will start out generating characters at random. In general the first bunch of characters will be a little rough since it hasn't built up a long history of characters to predict from."
      ]
    },
    {
      "cell_type": "code",
      "metadata": {
        "collapsed": true,
        "id": "rVFyyNzC0ucG"
      },
      "source": [
        "def sample(net, size, prime='The', top_k=None):\n",
        "        \n",
        "    if(train_on_gpu):\n",
        "        net.cuda()\n",
        "    else:\n",
        "        net.cpu()\n",
        "    \n",
        "    net.eval() # eval mode\n",
        "    \n",
        "    # First off, run through the prime characters\n",
        "    chars = [ch for ch in prime]\n",
        "    h = net.init_hidden(1)\n",
        "    for ch in prime:\n",
        "        char, h = predict(net, ch, h, top_k=top_k)\n",
        "\n",
        "    chars.append(char)\n",
        "    \n",
        "    # Now pass in the previous character and get a new one\n",
        "    for ii in range(size):\n",
        "        char, h = predict(net, chars[-1], h, top_k=top_k)\n",
        "        chars.append(char)\n",
        "\n",
        "    return ''.join(chars)"
      ],
      "execution_count": 60,
      "outputs": []
    },
    {
      "cell_type": "code",
      "metadata": {
        "collapsed": true,
        "colab": {
          "base_uri": "https://localhost:8080/"
        },
        "id": "O3uktNtM0ucG",
        "outputId": "cec35d4d-1771-456b-df6b-19664ae7b18e"
      },
      "source": [
        "print(sample(net, 1000, prime='Swayam ', top_k=5))"
      ],
      "execution_count": 63,
      "outputs": [
        {
          "output_type": "stream",
          "name": "stdout",
          "text": [
            "Swayam had\n",
            "so is taken first them and to be sering at each orserves in the\n",
            "supper, the minutest carriage stepped. The partors had been always\n",
            "back at all it, then as though the servants was not supitufitutly\n",
            "all the sound at once. And he was, at once time to her that she had not to be content into\n",
            "the more than answer as though she was seeing this all the\n",
            "door. He fine that the cold condeming the carriage are putting off her\n",
            "arrival to the stream. A stiry was satisfied to striking in\n",
            "her face with him, he falled on the room to her. Behind this simple sight\n",
            "that had nothing to give up her and all of them.\n",
            "\n",
            "The moment of sere he had been saying that something was this of\n",
            "his own party. He was all the chear and that she caused his head\n",
            "to the men, and while some friends. He was delicious winding to her he\n",
            "caught a performing of the peasant to her. The memories of the\n",
            "thoughts, he was and the stall at to him, but she was not thinking of the\n",
            "same that where she had no disacture, and taking his step\n"
          ]
        }
      ]
    },
    {
      "cell_type": "markdown",
      "metadata": {
        "id": "TjPZx1bh0ucG"
      },
      "source": [
        "## Loading a checkpoint"
      ]
    },
    {
      "cell_type": "code",
      "metadata": {
        "collapsed": true,
        "colab": {
          "base_uri": "https://localhost:8080/"
        },
        "id": "-V11_v4p0ucG",
        "outputId": "dc20f80c-10cb-4ce9-a820-8ca0cbaee51c"
      },
      "source": [
        "with open('rnn_x_epoch.net', 'rb') as f:\n",
        "    checkpoint = torch.load(f)\n",
        "    \n",
        "loaded = CharRNN(checkpoint['tokens'], n_hidden=checkpoint['n_hidden'], n_layers=checkpoint['n_layers'])\n",
        "loaded.load_state_dict(checkpoint['state_dict'])"
      ],
      "execution_count": 64,
      "outputs": [
        {
          "output_type": "execute_result",
          "data": {
            "text/plain": [
              "<All keys matched successfully>"
            ]
          },
          "metadata": {},
          "execution_count": 64
        }
      ]
    },
    {
      "cell_type": "code",
      "metadata": {
        "collapsed": true,
        "colab": {
          "base_uri": "https://localhost:8080/"
        },
        "id": "g23TumT-0ucG",
        "outputId": "0b253e95-044a-4bf7-f68c-ff21908740bd"
      },
      "source": [
        "print(sample(loaded, 2000, top_k=5, prime=\"That's how Swayam \"))"
      ],
      "execution_count": 68,
      "outputs": [
        {
          "output_type": "stream",
          "name": "stdout",
          "text": [
            "That's how Swayam his\n",
            "father, would be at first to see him. He saw a conversation to\n",
            "himself in the missry. The marshal, he was silent, the\n",
            "forest on the same sisters of tappente, and at the deares of the seas of\n",
            "their stands in her servants, and went out of herself, and still stragged and did\n",
            "not know, and-say, were timislied with her, and he had tratted to see\n",
            "her.\n",
            "\n",
            "\"Why? You shall see the standing as staying for him.\"\n",
            "\n",
            "\"It would be done.\"\n",
            "\n",
            "Alexey Alexandrovitch was already fairing all the conversated and he had\n",
            "been to be a consider of her fees and so subject, and so that\n",
            "her fingers had not seen his best things.\n",
            "\n",
            "\"I don't say it,\" he said, with a\n",
            "smiling cold stringle at the same tistes in something feeling\n",
            "in the sundering-back, when he had been a capiation of the conversation. And there is not a sick mome to\n",
            "the conversation of a sidele wants, but the face was standing over a cherk.\n",
            "\n",
            "The man saw that this said the same to be at his stop, he was not an\n",
            "extreme tone, and how he had been saying that the more was\n",
            "in lets, and his head and heart on a strange too, he went to the\n",
            "tines and to the formishevely, there was somewhere for the meators. Stepan\n",
            "Arkadyevitch answered to tell marry, but he was taking a strange that had an officer\n",
            "transed of the same diring hand again. She was assidiance at her\n",
            "from him, were calling to be so more an outing than\n",
            "the princess to say to the mother, and the sound\n",
            "what she had been driving.\n",
            "\n",
            "\"I say nothing but a man would nor talk in their mester anserventy\n",
            "for all out of them all in them, and there's a\n",
            "long than in any soul, a share way, and stor is that to be\n",
            "that that in suppost is impossible. It's not a more of the position, I did\n",
            "to see, you've gone in to be tried to do with me, I should be\n",
            "nothing to be all the day. I had been for most inforest\n",
            "to tell your family, though she has been as interest, but himself\n",
            "in all about that the stalls, all the consciousness.\n",
            "As at the conversation has been true,\" thought Kitty, with tenderly\n",
            "smile. \"I desire\n"
          ]
        }
      ]
    },
    {
      "cell_type": "code",
      "metadata": {
        "id": "II9JHn_88jen"
      },
      "source": [
        ""
      ],
      "execution_count": null,
      "outputs": []
    }
  ]
}